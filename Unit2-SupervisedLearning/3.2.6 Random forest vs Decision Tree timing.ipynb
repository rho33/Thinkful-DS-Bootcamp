{
 "cells": [
  {
   "cell_type": "code",
   "execution_count": 1,
   "metadata": {},
   "outputs": [],
   "source": [
    "import pandas as pd\n",
    "import numpy as np\n",
    "import matplotlib.pyplot as plt\n",
    "import random\n",
    "import seaborn as sns\n",
    "import time\n",
    "%matplotlib inline\n",
    "\n",
    "import mdst # my data science tools. A collection of time saving functions on my local machine"
   ]
  },
  {
   "cell_type": "code",
   "execution_count": 2,
   "metadata": {},
   "outputs": [
    {
     "name": "stderr",
     "output_type": "stream",
     "text": [
      "c:\\python36-32\\lib\\site-packages\\IPython\\core\\interactiveshell.py:2785: DtypeWarning: Columns (0,55) have mixed types. Specify dtype option on import or set low_memory=False.\n",
      "  interactivity=interactivity, compiler=compiler, result=result)\n"
     ]
    }
   ],
   "source": [
    "#file size causes problems so we will take a random sample of 10,000 rows for this drill\n",
    "n = 421095 #number of records in file\n",
    "s = 10000 #desired sample size\n",
    "skip = sorted(random.sample(range(2, n+2),n-s)) # rows to skip\n",
    "\n",
    "# load in data passing skip to skiprows kw\n",
    "y2015 = pd.read_csv(\n",
    "    'LoanStats3d.csv',\n",
    "    skipinitialspace=True,\n",
    "    header=1,\n",
    "    skiprows=skip\n",
    ")\n",
    "\n",
    "# Remove two summary rows at the end that don't actually contain data.\n",
    "y2015 = y2015[:-2]"
   ]
  },
  {
   "cell_type": "code",
   "execution_count": 3,
   "metadata": {},
   "outputs": [],
   "source": [
    "#this cell is copied from curriculum\n",
    "\n",
    "# Convert ID and Interest Rate to numeric.\n",
    "y2015['id'] = pd.to_numeric(y2015['id'], errors='coerce')\n",
    "y2015['int_rate'] = pd.to_numeric(y2015['int_rate'].str.strip('%'), errors='coerce')\n",
    "\n",
    "# Drop other columns with many unique variables\n",
    "y2015.drop(['url', 'emp_title', 'zip_code', 'earliest_cr_line', 'revol_util',\n",
    "            'sub_grade', 'addr_state', 'desc'], 1, inplace=True)"
   ]
  },
  {
   "cell_type": "code",
   "execution_count": 4,
   "metadata": {},
   "outputs": [],
   "source": [
    "# names of columns that are related to outstanding principal or payment amount\n",
    "prncp_or_pymnt_amnt = ['out_prncp', 'out_prncp_inv', 'total_pymnt', 'total_pymnt_inv', 'total_rec_prncp', 'total_rec_int', \n",
    "                       'last_pymnt_amnt', 'tot_cur_bal', 'total_bal_il', 'il_util', 'max_bal_bc', 'all_util', 'avg_cur_bal']\n",
    "\n",
    "# names of columns NOT related to outstanding principal or payment amount\n",
    "cols = [i for i in y2015.columns if i not in prncp_or_pymnt_amnt]"
   ]
  },
  {
   "cell_type": "code",
   "execution_count": 5,
   "metadata": {},
   "outputs": [],
   "source": [
    "# set variables\n",
    "X = y2015[cols].drop('loan_status', 1)\n",
    "Y = y2015['loan_status']\n",
    "X = pd.get_dummies(X)\n",
    "X = X.dropna(axis=1)"
   ]
  },
  {
   "cell_type": "code",
   "execution_count": 17,
   "metadata": {},
   "outputs": [
    {
     "name": "stdout",
     "output_type": "stream",
     "text": [
      "run time = 0.16590332984924316\n",
      "accuracy = 0.9047 +/ 0.0209\n"
     ]
    }
   ],
   "source": [
    "from sklearn import ensemble\n",
    "\n",
    "#time random forest fit \n",
    "rfc = ensemble.RandomForestClassifier(max_depth=3)\n",
    "\n",
    "start_time = time.time()\n",
    "\n",
    "rfc.fit(X,Y)\n",
    "end_time = time.time()\n",
    "print('run time = {}'.format(end_time-start_time))\n",
    "mdst.display_score(rfc, X, Y)"
   ]
  },
  {
   "cell_type": "code",
   "execution_count": 18,
   "metadata": {},
   "outputs": [
    {
     "name": "stdout",
     "output_type": "stream",
     "text": [
      "run time = 0.0029969215393066406\n"
     ]
    },
    {
     "name": "stderr",
     "output_type": "stream",
     "text": [
      "c:\\python36-32\\lib\\site-packages\\ipykernel_launcher.py:3: FutureWarning: reshape is deprecated and will raise in a subsequent release. Please use .values.reshape(...) instead\n",
      "  This is separate from the ipykernel package so we can avoid doing imports until\n"
     ]
    }
   ],
   "source": [
    "# time random forest prediction\n",
    "start_time = time.time()\n",
    "rfc.predict(X.iloc[3,:].reshape(1,-1))\n",
    "end_time = time.time()\n",
    "print('run time = {}'.format(end_time-start_time))\n"
   ]
  },
  {
   "cell_type": "code",
   "execution_count": 19,
   "metadata": {},
   "outputs": [
    {
     "name": "stdout",
     "output_type": "stream",
     "text": [
      "run time = 0.19188833236694336\n",
      "accuracy = 0.9653 +/ 0.0102\n"
     ]
    }
   ],
   "source": [
    "from sklearn import tree\n",
    "\n",
    "# time decision tree fit\n",
    "dtc = tree.DecisionTreeClassifier()\n",
    "dtc.max_depth = 3\n",
    "start_time = time.time()\n",
    "dtc.fit(X,Y)\n",
    "end_time = time.time()\n",
    "print('run time = {}'.format(end_time-start_time))\n",
    "mdst.display_score(dtc, X, Y)"
   ]
  },
  {
   "cell_type": "code",
   "execution_count": 20,
   "metadata": {},
   "outputs": [
    {
     "name": "stdout",
     "output_type": "stream",
     "text": [
      "run time = 0.0010008811950683594\n"
     ]
    },
    {
     "name": "stderr",
     "output_type": "stream",
     "text": [
      "c:\\python36-32\\lib\\site-packages\\ipykernel_launcher.py:3: FutureWarning: reshape is deprecated and will raise in a subsequent release. Please use .values.reshape(...) instead\n",
      "  This is separate from the ipykernel package so we can avoid doing imports until\n"
     ]
    }
   ],
   "source": [
    "# time a prediction\n",
    "start_time = time.time()\n",
    "dtc.predict(X.iloc[3,:].reshape(1,-1))\n",
    "end_time = time.time()\n",
    "print('run time = {}'.format(end_time-start_time))"
   ]
  },
  {
   "cell_type": "markdown",
   "metadata": {},
   "source": [
    "the random forest classifier actually fit a bit faster than the decision tree classifier (.17 seconds compared to .19), but the decision tree predicted much faster (.001 seconds vs .003) "
   ]
  }
 ],
 "metadata": {
  "kernelspec": {
   "display_name": "Python 3",
   "language": "python",
   "name": "python3"
  },
  "language_info": {
   "codemirror_mode": {
    "name": "ipython",
    "version": 3
   },
   "file_extension": ".py",
   "mimetype": "text/x-python",
   "name": "python",
   "nbconvert_exporter": "python",
   "pygments_lexer": "ipython3",
   "version": "3.6.2"
  }
 },
 "nbformat": 4,
 "nbformat_minor": 2
}
