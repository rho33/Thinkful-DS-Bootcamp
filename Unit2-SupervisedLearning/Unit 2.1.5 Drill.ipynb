{
 "cells": [
  {
   "cell_type": "markdown",
   "metadata": {},
   "source": [
    "### Categorize each of the variables in the ESS dataset as categorical or continuous, and if continuous as ordinal, interval, or ratio variables. Check your work with your mentor, and discuss what that information might imply for feature engineering with this data."
   ]
  },
  {
   "cell_type": "markdown",
   "metadata": {},
   "source": [
    "- cntry - categorical\n",
    "- idno - categorical\n",
    "- year - categorical\n",
    "- tvtot - continuous (ratio)\n",
    "- ppltrst - continuous (ordinal)\n",
    "- pplfair - continuous (ordinal)\n",
    "- pplhlp - continuous (ordinal)\n",
    "- happy - continuous (ordinal)\n",
    "- sclmeet - continuous (ordinal)\n",
    "- sclact - continuous (ordinal)\n",
    "- gndr - categorical\n",
    "- agea - continuous (ratio)\n",
    "- partner - categorical"
   ]
  }
 ],
 "metadata": {
  "kernelspec": {
   "display_name": "Python 3",
   "language": "python",
   "name": "python3"
  },
  "language_info": {
   "codemirror_mode": {
    "name": "ipython",
    "version": 3
   },
   "file_extension": ".py",
   "mimetype": "text/x-python",
   "name": "python",
   "nbconvert_exporter": "python",
   "pygments_lexer": "ipython3",
   "version": "3.6.2"
  }
 },
 "nbformat": 4,
 "nbformat_minor": 2
}
