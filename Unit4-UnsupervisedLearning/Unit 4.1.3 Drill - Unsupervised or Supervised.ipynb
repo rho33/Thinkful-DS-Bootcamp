{
 "cells": [
  {
   "cell_type": "markdown",
   "metadata": {},
   "source": [
    "# Unit 4.1.3 Drill: Unsupervised or supervised?"
   ]
  },
  {
   "cell_type": "markdown",
   "metadata": {},
   "source": [
    "For each of these scenarios decide if you could use supervised or unsupervised techniques, or both!\n",
    "\n",
    "1. Define the likelihood that an individual will contract a specific disease\n",
    "    - Supervised\n",
    "2. Translate a set of images into variables for modeling\n",
    "    - Unsupervised\n",
    "3. An ecommerce company wants to identify power users\n",
    "    - Supervised\n",
    "4. That same company wants to see shopping patterns in users\n",
    "    - Unsupervised\n",
    "5. You want to reduce the number of variables inputting into your random forest model\n",
    "    - Both"
   ]
  }
 ],
 "metadata": {
  "kernelspec": {
   "display_name": "Python 3",
   "language": "python",
   "name": "python3"
  },
  "language_info": {
   "codemirror_mode": {
    "name": "ipython",
    "version": 3
   },
   "file_extension": ".py",
   "mimetype": "text/x-python",
   "name": "python",
   "nbconvert_exporter": "python",
   "pygments_lexer": "ipython3",
   "version": "3.6.2"
  },
  "toc": {
   "base_numbering": 1,
   "nav_menu": {},
   "number_sections": true,
   "sideBar": true,
   "skip_h1_title": false,
   "title_cell": "Table of Contents",
   "title_sidebar": "Contents",
   "toc_cell": false,
   "toc_position": {},
   "toc_section_display": true,
   "toc_window_display": false
  }
 },
 "nbformat": 4,
 "nbformat_minor": 2
}
