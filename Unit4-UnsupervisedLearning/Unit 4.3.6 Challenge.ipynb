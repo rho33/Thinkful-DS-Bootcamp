{
 "cells": [
  {
   "cell_type": "markdown",
   "metadata": {},
   "source": [
    "Create a multi-layer perceptron neural network model to predict on a labeled dataset of your choosing. Compare this model to either a boosted tree or a random forest model and describe the relative tradeoffs between complexity and accuracy. Be sure to vary the hyperparameters of your MLP!"
   ]
  },
  {
   "cell_type": "code",
   "execution_count": 1,
   "metadata": {
    "ExecuteTime": {
     "end_time": "2018-12-17T22:32:22.285447Z",
     "start_time": "2018-12-17T22:32:20.372536Z"
    }
   },
   "outputs": [],
   "source": [
    "import numpy as np\n",
    "import pandas as pd\n",
    "import matplotlib.pyplot as plt\n",
    "%matplotlib inline\n",
    "\n",
    "from sklearn.neural_network import MLPRegressor\n",
    "from sklearn.ensemble import RandomForestRegressor\n",
    "from sklearn.model_selection import cross_val_score\n",
    "\n",
    "import mdst\n"
   ]
  },
  {
   "cell_type": "code",
   "execution_count": 2,
   "metadata": {
    "ExecuteTime": {
     "end_time": "2018-12-17T22:32:22.450353Z",
     "start_time": "2018-12-17T22:32:22.289443Z"
    }
   },
   "outputs": [],
   "source": [
    "df = pd.read_csv('vgsales.csv')"
   ]
  },
  {
   "cell_type": "code",
   "execution_count": 3,
   "metadata": {
    "ExecuteTime": {
     "end_time": "2018-12-17T22:32:22.511316Z",
     "start_time": "2018-12-17T22:32:22.455348Z"
    }
   },
   "outputs": [
    {
     "name": "stdout",
     "output_type": "stream",
     "text": [
      "total rows:  16598\n"
     ]
    },
    {
     "data": {
      "text/html": [
       "<div>\n",
       "<style scoped>\n",
       "    .dataframe tbody tr th:only-of-type {\n",
       "        vertical-align: middle;\n",
       "    }\n",
       "\n",
       "    .dataframe tbody tr th {\n",
       "        vertical-align: top;\n",
       "    }\n",
       "\n",
       "    .dataframe thead th {\n",
       "        text-align: right;\n",
       "    }\n",
       "</style>\n",
       "<table border=\"1\" class=\"dataframe\">\n",
       "  <thead>\n",
       "    <tr style=\"text-align: right;\">\n",
       "      <th></th>\n",
       "      <th>null_counts</th>\n",
       "      <th>pct_nulls</th>\n",
       "      <th>dtype</th>\n",
       "    </tr>\n",
       "  </thead>\n",
       "  <tbody>\n",
       "    <tr>\n",
       "      <th>Rank</th>\n",
       "      <td>0</td>\n",
       "      <td>0</td>\n",
       "      <td>int64</td>\n",
       "    </tr>\n",
       "    <tr>\n",
       "      <th>Name</th>\n",
       "      <td>0</td>\n",
       "      <td>0</td>\n",
       "      <td>object</td>\n",
       "    </tr>\n",
       "    <tr>\n",
       "      <th>Platform</th>\n",
       "      <td>0</td>\n",
       "      <td>0</td>\n",
       "      <td>object</td>\n",
       "    </tr>\n",
       "    <tr>\n",
       "      <th>Year</th>\n",
       "      <td>271</td>\n",
       "      <td>1.6327</td>\n",
       "      <td>float64</td>\n",
       "    </tr>\n",
       "    <tr>\n",
       "      <th>Genre</th>\n",
       "      <td>0</td>\n",
       "      <td>0</td>\n",
       "      <td>object</td>\n",
       "    </tr>\n",
       "    <tr>\n",
       "      <th>Publisher</th>\n",
       "      <td>58</td>\n",
       "      <td>0.3494</td>\n",
       "      <td>object</td>\n",
       "    </tr>\n",
       "    <tr>\n",
       "      <th>NA_Sales</th>\n",
       "      <td>0</td>\n",
       "      <td>0</td>\n",
       "      <td>float64</td>\n",
       "    </tr>\n",
       "    <tr>\n",
       "      <th>EU_Sales</th>\n",
       "      <td>0</td>\n",
       "      <td>0</td>\n",
       "      <td>float64</td>\n",
       "    </tr>\n",
       "    <tr>\n",
       "      <th>JP_Sales</th>\n",
       "      <td>0</td>\n",
       "      <td>0</td>\n",
       "      <td>float64</td>\n",
       "    </tr>\n",
       "    <tr>\n",
       "      <th>Other_Sales</th>\n",
       "      <td>0</td>\n",
       "      <td>0</td>\n",
       "      <td>float64</td>\n",
       "    </tr>\n",
       "    <tr>\n",
       "      <th>Global_Sales</th>\n",
       "      <td>0</td>\n",
       "      <td>0</td>\n",
       "      <td>float64</td>\n",
       "    </tr>\n",
       "  </tbody>\n",
       "</table>\n",
       "</div>"
      ],
      "text/plain": [
       "             null_counts pct_nulls    dtype\n",
       "Rank                   0         0    int64\n",
       "Name                   0         0   object\n",
       "Platform               0         0   object\n",
       "Year                 271    1.6327  float64\n",
       "Genre                  0         0   object\n",
       "Publisher             58    0.3494   object\n",
       "NA_Sales               0         0  float64\n",
       "EU_Sales               0         0  float64\n",
       "JP_Sales               0         0  float64\n",
       "Other_Sales            0         0  float64\n",
       "Global_Sales           0         0  float64"
      ]
     },
     "execution_count": 3,
     "metadata": {},
     "output_type": "execute_result"
    }
   ],
   "source": [
    "mdst.null_summary(df)"
   ]
  },
  {
   "cell_type": "code",
   "execution_count": 4,
   "metadata": {
    "ExecuteTime": {
     "end_time": "2018-12-17T22:32:22.607261Z",
     "start_time": "2018-12-17T22:32:22.519321Z"
    }
   },
   "outputs": [],
   "source": [
    "df.dropna(inplace=True)"
   ]
  },
  {
   "cell_type": "code",
   "execution_count": 5,
   "metadata": {
    "ExecuteTime": {
     "end_time": "2018-12-17T22:32:22.746357Z",
     "start_time": "2018-12-17T22:32:22.611259Z"
    }
   },
   "outputs": [
    {
     "data": {
      "text/html": [
       "<div>\n",
       "<style scoped>\n",
       "    .dataframe tbody tr th:only-of-type {\n",
       "        vertical-align: middle;\n",
       "    }\n",
       "\n",
       "    .dataframe tbody tr th {\n",
       "        vertical-align: top;\n",
       "    }\n",
       "\n",
       "    .dataframe thead th {\n",
       "        text-align: right;\n",
       "    }\n",
       "</style>\n",
       "<table border=\"1\" class=\"dataframe\">\n",
       "  <thead>\n",
       "    <tr style=\"text-align: right;\">\n",
       "      <th></th>\n",
       "      <th>Rank</th>\n",
       "      <th>Name</th>\n",
       "      <th>Platform</th>\n",
       "      <th>Year</th>\n",
       "      <th>Genre</th>\n",
       "      <th>Publisher</th>\n",
       "      <th>NA_Sales</th>\n",
       "      <th>EU_Sales</th>\n",
       "      <th>JP_Sales</th>\n",
       "      <th>Other_Sales</th>\n",
       "      <th>Global_Sales</th>\n",
       "    </tr>\n",
       "  </thead>\n",
       "  <tbody>\n",
       "    <tr>\n",
       "      <th>0</th>\n",
       "      <td>1</td>\n",
       "      <td>Wii Sports</td>\n",
       "      <td>Wii</td>\n",
       "      <td>2006.0</td>\n",
       "      <td>Sports</td>\n",
       "      <td>Nintendo</td>\n",
       "      <td>41.49</td>\n",
       "      <td>29.02</td>\n",
       "      <td>3.77</td>\n",
       "      <td>8.46</td>\n",
       "      <td>82.74</td>\n",
       "    </tr>\n",
       "    <tr>\n",
       "      <th>1</th>\n",
       "      <td>2</td>\n",
       "      <td>Super Mario Bros.</td>\n",
       "      <td>NES</td>\n",
       "      <td>1985.0</td>\n",
       "      <td>Platform</td>\n",
       "      <td>Nintendo</td>\n",
       "      <td>29.08</td>\n",
       "      <td>3.58</td>\n",
       "      <td>6.81</td>\n",
       "      <td>0.77</td>\n",
       "      <td>40.24</td>\n",
       "    </tr>\n",
       "    <tr>\n",
       "      <th>2</th>\n",
       "      <td>3</td>\n",
       "      <td>Mario Kart Wii</td>\n",
       "      <td>Wii</td>\n",
       "      <td>2008.0</td>\n",
       "      <td>Racing</td>\n",
       "      <td>Nintendo</td>\n",
       "      <td>15.85</td>\n",
       "      <td>12.88</td>\n",
       "      <td>3.79</td>\n",
       "      <td>3.31</td>\n",
       "      <td>35.82</td>\n",
       "    </tr>\n",
       "    <tr>\n",
       "      <th>3</th>\n",
       "      <td>4</td>\n",
       "      <td>Wii Sports Resort</td>\n",
       "      <td>Wii</td>\n",
       "      <td>2009.0</td>\n",
       "      <td>Sports</td>\n",
       "      <td>Nintendo</td>\n",
       "      <td>15.75</td>\n",
       "      <td>11.01</td>\n",
       "      <td>3.28</td>\n",
       "      <td>2.96</td>\n",
       "      <td>33.00</td>\n",
       "    </tr>\n",
       "    <tr>\n",
       "      <th>4</th>\n",
       "      <td>5</td>\n",
       "      <td>Pokemon Red/Pokemon Blue</td>\n",
       "      <td>GB</td>\n",
       "      <td>1996.0</td>\n",
       "      <td>Role-Playing</td>\n",
       "      <td>Nintendo</td>\n",
       "      <td>11.27</td>\n",
       "      <td>8.89</td>\n",
       "      <td>10.22</td>\n",
       "      <td>1.00</td>\n",
       "      <td>31.37</td>\n",
       "    </tr>\n",
       "  </tbody>\n",
       "</table>\n",
       "</div>"
      ],
      "text/plain": [
       "   Rank                      Name Platform    Year         Genre Publisher  \\\n",
       "0     1                Wii Sports      Wii  2006.0        Sports  Nintendo   \n",
       "1     2         Super Mario Bros.      NES  1985.0      Platform  Nintendo   \n",
       "2     3            Mario Kart Wii      Wii  2008.0        Racing  Nintendo   \n",
       "3     4         Wii Sports Resort      Wii  2009.0        Sports  Nintendo   \n",
       "4     5  Pokemon Red/Pokemon Blue       GB  1996.0  Role-Playing  Nintendo   \n",
       "\n",
       "   NA_Sales  EU_Sales  JP_Sales  Other_Sales  Global_Sales  \n",
       "0     41.49     29.02      3.77         8.46         82.74  \n",
       "1     29.08      3.58      6.81         0.77         40.24  \n",
       "2     15.85     12.88      3.79         3.31         35.82  \n",
       "3     15.75     11.01      3.28         2.96         33.00  \n",
       "4     11.27      8.89     10.22         1.00         31.37  "
      ]
     },
     "execution_count": 5,
     "metadata": {},
     "output_type": "execute_result"
    }
   ],
   "source": [
    "df.head()"
   ]
  },
  {
   "cell_type": "code",
   "execution_count": 6,
   "metadata": {
    "ExecuteTime": {
     "end_time": "2018-12-17T22:32:22.906470Z",
     "start_time": "2018-12-17T22:32:22.752346Z"
    },
    "code_folding": [
     0
    ]
   },
   "outputs": [],
   "source": [
    "# beginnings of my own convenience functions for feature engineering and data exploration\n",
    "class Features_df():\n",
    "    def __init__(self, df, y_col, test_size=.25, random_state=33):\n",
    "        self.df = df.copy()\n",
    "        self.df.index = range(len(df))\n",
    "        self.numeric_col_names = list(df.select_dtypes(exclude=[object]).columns)\n",
    "        self.numeric_col_names.remove(y_col)\n",
    "        self.categorical_col_names = list(df.select_dtypes(include=[object]).columns)\n",
    "        self.added_col_names = []\n",
    "        self.original_col_names = list(df.columns)\n",
    "        self.y_col = y_col\n",
    "        self.capped_outlier_col_names = []\n",
    "        self.pca_dct = {}\n",
    "        \n",
    "        \n",
    "        self.test_size = test_size\n",
    "        self.random_state = random_state\n",
    "\n",
    "        self.train_df = self.df.sample(frac=1-self.test_size ,random_state=self.random_state)\n",
    "        self.test_df = self.df.drop(self.train_df.index)\n",
    "        \n",
    "\n",
    "    def box_cox_y(self):\n",
    "        self.df['bc'+self.y_col], self.bc_y_lambda = boxcox(self.df[self.y_col])\n",
    "              \n",
    "    def train_test_df_update(self):\n",
    "        ''' re-initializes self.train_df and self.test_df based on current self.df\n",
    "        Feature engineer on self.df and call update to incorporate changes on training and testing df\n",
    "        '''\n",
    "        self.train_df = self.df.sample(frac=1-self.test_size ,random_state=self.random_state)\n",
    "        self.test_df = self.df.drop(self.train_df.index)\n",
    "        \n",
    "        \n",
    "    def get_dummies(self, cols=None):\n",
    "        \n",
    "        if not cols:\n",
    "            cols=self.categorical_col_names\n",
    "\n",
    "        self.most_common_dummy_dct = {}\n",
    "\n",
    "        for col_name in cols:\n",
    "            most_common = col_name + '_' + self.df[col_name].value_counts().index[0]\n",
    "            self.most_common_dummy_dct[col_name] = most_common\n",
    "              \n",
    "        dummies_df = pd.get_dummies(self.df[cols], prefix=cols)\n",
    "        self.df = pd.concat([self.df, dummies_df], axis=1)\n",
    "        \n",
    "        self.dummy_dct = {col: [d_col for d_col in dummies_df.columns if col in d_col] for col in cols}\n",
    "            \n",
    "    def drop_most_common_dummy(self, cols=None):\n",
    "        \n",
    "        if not cols:\n",
    "            cols=self.most_common_dummy_dct.keys()\n",
    "                \n",
    "        cols_to_drop = [self.most_common_dummy_dct[i] for i in cols]\n",
    "        self.df = self.df.drop(cols_to_drop, axis=1)\n",
    "\n",
    "    def get_poly_features(self, cols=None, degree=2):\n",
    "        \n",
    "        if not cols:\n",
    "            cols = self.numeric_col_names\n",
    "        \n",
    "        poly = PolynomialFeatures(degree)\n",
    "        poly_df = pd.DataFrame(poly.fit_transform(self.df[cols]))\n",
    "        self.poly_col_names = poly.get_feature_names()\n",
    "\n",
    "        for i, col in reversed(list(enumerate(self.df[cols]))):\n",
    "            self.poly_col_names = [pcn.replace('x'+str(i),col) for pcn in self.poly_col_names]\n",
    "\n",
    "        poly_df.columns = self.poly_col_names\n",
    "        \n",
    "        poly_df.index = self.df.index\n",
    "        \n",
    "#         self.poly_df = self.poly_df.drop(self.numeric_col_names, axis=1)\n",
    "        self.df = pd.concat([self.df, poly_df.drop(cols, axis=1)], axis=1)\n",
    "        self.poly_col_names = [col for col in self.poly_col_names if col not in cols]\n",
    "    \n",
    "    def standardize_cols(self, cols=None):\n",
    "        if not cols:\n",
    "            cols = self.numeric_col_names\n",
    "        scaler = StandardScaler()\n",
    "        self.st_cols = []\n",
    "        for col in cols:\n",
    "            new_col = col+'_scaled'\n",
    "            self.df[new_col] = scaler.fit_transform(self.df[[col]]).reshape(-1,)\n",
    "            self.st_cols.append(new_col)\n",
    "    \n",
    "    def box_all_standard(self, cols=None):\n",
    "        if not cols:\n",
    "            try:\n",
    "                cols = self.st_cols\n",
    "            except:\n",
    "                self.standardize_cols()\n",
    "                cols = self.st_cols\n",
    "\n",
    "        plt.figure(figsize=(20, len(cols)))\n",
    "        sns.boxplot(data=self.df[cols], orient='h')\n",
    "\n",
    "        \n",
    "    def pca(self, name='all', cols=None):\n",
    "        self.train_test_df_update()\n",
    "        \n",
    "        if not cols:\n",
    "            cols = [col for col in self.df.columns if col not in self.categorical_col_names]\n",
    "\n",
    "        pca = PCA()\n",
    "        # fit on training data\n",
    "        scaler = StandardScaler()\n",
    "        scaled_data = scaler.fit_transform(self.train_df[cols])\n",
    "        pca.fit(scaled_data)\n",
    "        \n",
    "        # transform on entire dataset\n",
    "        pca_array = pca.transform(self.df[cols])\n",
    "        \n",
    "        pca_col_names = [name+'_pca_'+str(i+1) for i in range(len(cols))]\n",
    "        pca_df = pd.DataFrame(pca_array, columns=pca_col_names)\n",
    "        self.df = pd.concat([self.df, pca_df], axis=1)\n",
    "        self.pca_dct[name] = pca\n",
    "        \n",
    "        self.train_test_df_update()\n",
    "    \n",
    "    def display_feature_categories(self):\n",
    "        self.added_col_names = list(self.df.columns) - self.original_col_names - self.poly_col_names - self.dummy_col_names\n",
    "        print('numeric_col_names: {}'.format(self.numeric_col_names,))\n",
    "        print('categorical_col_names: {}'.format(self.cagtegorical_col_names))\n",
    "        print('poly_col_names: {}'.format(self.poly_col_names))\n",
    "        print('added_col_names: {}'.format(self.added_col_names))\n",
    "        print('original_col_names: {}'.format(self.original_col_names))\n",
    "        \n",
    "    def group_by_original_cols(self):\n",
    "        self.origin_col_dct = {original_col:[] for original_col in self.original_col_names}\n",
    "        for col in self.df.columns:\n",
    "            for original_col in self.original_col_names:\n",
    "                if original_col in col:\n",
    "                    self.origin_col_dct[original_col] += [col]\n",
    "                    \n",
    "            \n",
    "    def outlier_report(self, cols=None):\n",
    "        if not cols:\n",
    "            cols = [self.y_col] + self.numeric_col_names\n",
    "            \n",
    "        odf = pd.DataFrame(cols, columns=['column'])\n",
    "        \n",
    "        def outlier_cutoffs(arr):\n",
    "            q1, q3 = arr.quantile(0.25), arr.quantile(0.75)\n",
    "            iqr = q3-q1\n",
    "            lower_co, upper_co = q1 - 1.5*(q3-q1), q3 + 1.5*(q3-q1)\n",
    "            return (lower_co, upper_co)\n",
    "\n",
    "        \n",
    "        odf['lower_co'] = odf['column'].apply(lambda x: outlier_cutoffs(self.df[x])[0])\n",
    "        odf['upper_co'] = odf['column'].apply(lambda x: outlier_cutoffs(self.df[x])[1])\n",
    "        \n",
    "        odf['upper_outlier_count'] = odf[['column','upper_co']].apply(\n",
    "                                                lambda x: len(self.df[(self.df[x[0]] > x[1])]), axis=1)\n",
    "        odf['lower_outlier_count'] = odf[['column','lower_co']].apply(\n",
    "                                                lambda x: len(self.df[(self.df[x[0]] < x[1])]), axis=1)\n",
    "        \n",
    "        odf['total_outlier_count'] = odf['upper_outlier_count'] + odf['lower_outlier_count']\n",
    "        \n",
    "        odf = odf[odf.columns[::-1]]\n",
    "        \n",
    "        outliers_col_df = odf.set_index('column')\n",
    "        \n",
    "        self.outliers_col_df = outliers_col_df\n",
    "        \n",
    "        \n",
    "        \n",
    "        \n",
    "#         ordf = self.df.copy()[cols]\n",
    "        \n",
    "        ordf = pd.DataFrame()\n",
    "        ordf['outlier_sum'] = 0\n",
    "        for col in cols:\n",
    "            a = self.df[col]\n",
    "            lower_co = outliers_col_df.loc[col,'lower_co']\n",
    "            upper_co = outliers_col_df.loc[col,'upper_co']\n",
    "            ordf[col] = a.mask((a>lower_co)&(a<upper_co))\n",
    "        ordf['outlier_sum'] = ordf.count(axis=1)\n",
    "        \n",
    "        self.outliers_row_df = ordf.sort_values(by='outlier_sum',ascending=False)\n",
    "        \n",
    "    def cap_outliers(self, cols=None):\n",
    "        if not cols:\n",
    "            cols = self.numeric_col_names\n",
    "\n",
    "        for col in cols:\n",
    "            lower_co = self.outliers_col_df.loc[col, 'lower_co']\n",
    "            upper_co = self.outliers_col_df.loc[col, 'upper_co']\n",
    "            \n",
    "            a = self.df[col]\n",
    "            self.df[col+' capped_outliers'] = a.where(a > lower_co, lower_co)\n",
    "            \n",
    "            b = self.df[col+' capped_outliers']\n",
    "            self.df[col+' capped_outliers'] = b.where(b < upper_co, upper_co)\n",
    "\n",
    "            self.capped_outlier_col_names.append(col+' capped_outliers')\n",
    "            \n",
    "    def rounded_bins(self, cols=None, bins=5):\n",
    "        if not cols:\n",
    "            cols = self.numeric_col_names\n",
    "            \n",
    "        for col in cols:\n",
    "            bin_size = (self.df[col].max() - self.df[col].min())/bins\n",
    "            labels = [self.df[col].min()+b*bin_size+.5*bin_size for b in range(bins)]\n",
    "\n",
    "            self.df[col+' rounded_bins'] = pd.to_numeric(pd.cut(self.df[col], bins, labels=labels))\n",
    "        self.rounded_bins_cols = [col+' rounded_bins' for col in cols]"
   ]
  },
  {
   "cell_type": "code",
   "execution_count": 7,
   "metadata": {
    "ExecuteTime": {
     "end_time": "2018-12-17T22:32:23.045986Z",
     "start_time": "2018-12-17T22:32:22.910456Z"
    }
   },
   "outputs": [],
   "source": [
    "features = Features_df(df, 'NA_Sales')"
   ]
  },
  {
   "cell_type": "code",
   "execution_count": 8,
   "metadata": {
    "ExecuteTime": {
     "end_time": "2018-12-17T22:32:23.288500Z",
     "start_time": "2018-12-17T22:32:23.049913Z"
    }
   },
   "outputs": [],
   "source": [
    "features.get_dummies(cols=['Publisher', 'Platform', 'Genre'])"
   ]
  },
  {
   "cell_type": "code",
   "execution_count": 9,
   "metadata": {
    "ExecuteTime": {
     "end_time": "2018-12-17T22:32:23.380476Z",
     "start_time": "2018-12-17T22:32:23.291444Z"
    }
   },
   "outputs": [],
   "source": [
    "features.train_test_df_update()"
   ]
  },
  {
   "cell_type": "markdown",
   "metadata": {},
   "source": [
    "# OOB"
   ]
  },
  {
   "cell_type": "code",
   "execution_count": 10,
   "metadata": {
    "ExecuteTime": {
     "end_time": "2018-12-17T22:32:23.460457Z",
     "start_time": "2018-12-17T22:32:23.382443Z"
    },
    "code_folding": [
     3,
     37
    ]
   },
   "outputs": [],
   "source": [
    "cols = ['Year', 'EU_Sales', 'JP_Sales']\n",
    "\n",
    "# Platform dummies\n",
    "cols += [\n",
    " 'Platform_2600',\n",
    " 'Platform_3DO',\n",
    " 'Platform_3DS',\n",
    " 'Platform_DC',\n",
    " 'Platform_DS',\n",
    " 'Platform_GB',\n",
    " 'Platform_GBA',\n",
    " 'Platform_GC',\n",
    " 'Platform_GEN',\n",
    " 'Platform_GG',\n",
    " 'Platform_N64',\n",
    " 'Platform_NES',\n",
    " 'Platform_NG',\n",
    " 'Platform_PC',\n",
    " 'Platform_PCFX',\n",
    " 'Platform_PS',\n",
    " 'Platform_PS2',\n",
    " 'Platform_PS3',\n",
    " 'Platform_PS4',\n",
    " 'Platform_PSP',\n",
    " 'Platform_PSV',\n",
    " 'Platform_SAT',\n",
    " 'Platform_SCD',\n",
    " 'Platform_SNES',\n",
    " 'Platform_TG16',\n",
    " 'Platform_WS',\n",
    " 'Platform_Wii',\n",
    " 'Platform_WiiU',\n",
    " 'Platform_X360',\n",
    " 'Platform_XB',\n",
    " 'Platform_XOne']\n",
    "\n",
    "# Genere Dummies\n",
    "cols += [\n",
    " 'Genre_Action',\n",
    " 'Genre_Adventure',\n",
    " 'Genre_Fighting',\n",
    " 'Genre_Misc',\n",
    " 'Genre_Platform',\n",
    " 'Genre_Puzzle',\n",
    " 'Genre_Racing',\n",
    " 'Genre_Role-Playing',\n",
    " 'Genre_Shooter',\n",
    " 'Genre_Simulation',\n",
    " 'Genre_Sports',\n",
    " 'Genre_Strategy']"
   ]
  },
  {
   "cell_type": "code",
   "execution_count": 11,
   "metadata": {
    "ExecuteTime": {
     "end_time": "2018-12-17T22:32:25.848932Z",
     "start_time": "2018-12-17T22:32:23.462454Z"
    }
   },
   "outputs": [
    {
     "name": "stdout",
     "output_type": "stream",
     "text": [
      "training score:  0.44007704883846843\n",
      "testing score:  0.5704419588894087\n"
     ]
    }
   ],
   "source": [
    "# split, fit, and score\n",
    "X_train, y_train = features.train_df[cols], features.train_df['NA_Sales']\n",
    "X_test, y_test = features.test_df[cols], features.test_df['NA_Sales']\n",
    "X, y = features.df[cols], features.df['NA_Sales']\n",
    "\n",
    "\n",
    "mlp = MLPRegressor()\n",
    "\n",
    "mlp.fit(X_train,y_train)\n",
    "print('training score: ',mlp.score(X_train, y_train))\n",
    "print('testing score: ', mlp.score(X_test, y_test))\n"
   ]
  },
  {
   "cell_type": "code",
   "execution_count": 12,
   "metadata": {
    "ExecuteTime": {
     "end_time": "2018-12-17T22:32:27.124204Z",
     "start_time": "2018-12-17T22:32:25.854927Z"
    }
   },
   "outputs": [
    {
     "name": "stderr",
     "output_type": "stream",
     "text": [
      "c:\\python37\\lib\\site-packages\\scipy\\stats\\stats.py:1713: FutureWarning: Using a non-tuple sequence for multidimensional indexing is deprecated; use `arr[tuple(seq)]` instead of `arr[seq]`. In the future this will be interpreted as an array index, `arr[np.array(seq)]`, which will result either in an error or a different result.\n",
      "  return np.add.reduce(sorted[indexer] * weights, axis=axis) / sumval\n"
     ]
    },
    {
     "data": {
      "image/png": "[encoded data removed]",
      "text/plain": [
       "<Figure size 1080x720 with 4 Axes>"
      ]
     },
     "metadata": {
      "needs_background": "light"
     },
     "output_type": "display_data"
    }
   ],
   "source": [
    "actual = features.test_df['NA_Sales']\n",
    "predicted = mlp.predict(features.test_df[cols])\n",
    "\n",
    "mdst.diagnostic_graphs_LR(actual, predicted)"
   ]
  },
  {
   "cell_type": "code",
   "execution_count": 13,
   "metadata": {
    "ExecuteTime": {
     "end_time": "2018-12-17T22:32:27.846307Z",
     "start_time": "2018-12-17T22:32:27.130199Z"
    }
   },
   "outputs": [
    {
     "name": "stderr",
     "output_type": "stream",
     "text": [
      "c:\\python37\\lib\\site-packages\\sklearn\\ensemble\\forest.py:246: FutureWarning: The default value of n_estimators will change from 10 in version 0.20 to 100 in 0.22.\n",
      "  \"10 in version 0.20 to 100 in 0.22.\", FutureWarning)\n"
     ]
    },
    {
     "name": "stdout",
     "output_type": "stream",
     "text": [
      "training score:  0.9353139276202397\n",
      "testing score:  0.5251172608476182\n"
     ]
    }
   ],
   "source": [
    "# split, fit, and score\n",
    "# X_train, y_train = features.train_df[cols], features.train_df['NA_Sales']\n",
    "# X_test, y_test = features.test_df[cols], features.test_df['NA_Sales']\n",
    "# X, y = features.df[cols], features.df['NA_Sales']\n",
    "\n",
    "\n",
    "rf = RandomForestRegressor()\n",
    "\n",
    "rf.fit(X_train,y_train)\n",
    "print('training score: ',rf.score(X_train, y_train))\n",
    "print('testing score: ', rf.score(X_test, y_test))\n"
   ]
  },
  {
   "cell_type": "code",
   "execution_count": 14,
   "metadata": {
    "ExecuteTime": {
     "end_time": "2018-12-17T22:32:28.984655Z",
     "start_time": "2018-12-17T22:32:27.851301Z"
    }
   },
   "outputs": [
    {
     "name": "stderr",
     "output_type": "stream",
     "text": [
      "c:\\python37\\lib\\site-packages\\scipy\\stats\\stats.py:1713: FutureWarning: Using a non-tuple sequence for multidimensional indexing is deprecated; use `arr[tuple(seq)]` instead of `arr[seq]`. In the future this will be interpreted as an array index, `arr[np.array(seq)]`, which will result either in an error or a different result.\n",
      "  return np.add.reduce(sorted[indexer] * weights, axis=axis) / sumval\n"
     ]
    },
    {
     "data": {
      "image/png": "[encoded data removed]",
      "text/plain": [
       "<Figure size 1080x720 with 4 Axes>"
      ]
     },
     "metadata": {
      "needs_background": "light"
     },
     "output_type": "display_data"
    }
   ],
   "source": [
    "actual = features.test_df['NA_Sales']\n",
    "predicted = rf.predict(features.test_df[cols])\n",
    "\n",
    "mdst.diagnostic_graphs_LR(actual, predicted)"
   ]
  },
  {
   "cell_type": "markdown",
   "metadata": {},
   "source": [
    "# Tuned"
   ]
  },
  {
   "cell_type": "code",
   "execution_count": 15,
   "metadata": {
    "ExecuteTime": {
     "end_time": "2018-12-17T22:32:29.002643Z",
     "start_time": "2018-12-17T22:32:28.988651Z"
    },
    "code_folding": [
     3,
     37
    ]
   },
   "outputs": [],
   "source": [
    "cols = ['Year', 'EU_Sales', 'JP_Sales']\n",
    "\n",
    "# Platform dummies\n",
    "cols += [\n",
    " 'Platform_2600',\n",
    " 'Platform_3DO',\n",
    " 'Platform_3DS',\n",
    " 'Platform_DC',\n",
    " 'Platform_DS',\n",
    " 'Platform_GB',\n",
    " 'Platform_GBA',\n",
    " 'Platform_GC',\n",
    " 'Platform_GEN',\n",
    " 'Platform_GG',\n",
    " 'Platform_N64',\n",
    " 'Platform_NES',\n",
    " 'Platform_NG',\n",
    " 'Platform_PC',\n",
    " 'Platform_PCFX',\n",
    " 'Platform_PS',\n",
    " 'Platform_PS2',\n",
    " 'Platform_PS3',\n",
    " 'Platform_PS4',\n",
    " 'Platform_PSP',\n",
    " 'Platform_PSV',\n",
    " 'Platform_SAT',\n",
    " 'Platform_SCD',\n",
    " 'Platform_SNES',\n",
    " 'Platform_TG16',\n",
    " 'Platform_WS',\n",
    " 'Platform_Wii',\n",
    " 'Platform_WiiU',\n",
    " 'Platform_X360',\n",
    " 'Platform_XB',\n",
    " 'Platform_XOne']\n",
    "\n",
    "# Genere Dummies\n",
    "cols += [\n",
    " 'Genre_Action',\n",
    " 'Genre_Adventure',\n",
    " 'Genre_Fighting',\n",
    " 'Genre_Misc',\n",
    " 'Genre_Platform',\n",
    " 'Genre_Puzzle',\n",
    " 'Genre_Racing',\n",
    " 'Genre_Role-Playing',\n",
    " 'Genre_Shooter',\n",
    " 'Genre_Simulation',\n",
    " 'Genre_Sports',\n",
    " 'Genre_Strategy']"
   ]
  },
  {
   "cell_type": "code",
   "execution_count": 16,
   "metadata": {
    "ExecuteTime": {
     "end_time": "2018-12-17T22:32:31.793282Z",
     "start_time": "2018-12-17T22:32:29.009639Z"
    }
   },
   "outputs": [
    {
     "name": "stdout",
     "output_type": "stream",
     "text": [
      "training score:  0.5980689233951324\n",
      "testing score:  0.6349302116931397\n"
     ]
    }
   ],
   "source": [
    "# split, fit, and score\n",
    "X_train, y_train = features.train_df[cols], features.train_df['NA_Sales']\n",
    "X_test, y_test = features.test_df[cols], features.test_df['NA_Sales']\n",
    "X, y = features.df[cols], features.df['NA_Sales']\n",
    "\n",
    "\n",
    "mlp = MLPRegressor((15,), solver='adam', activation='relu')\n",
    "\n",
    "mlp.fit(X_train,y_train)\n",
    "print('training score: ',mlp.score(X_train, y_train))\n",
    "print('testing score: ', mlp.score(X_test, y_test))\n"
   ]
  },
  {
   "cell_type": "code",
   "execution_count": 17,
   "metadata": {
    "ExecuteTime": {
     "end_time": "2018-12-17T22:32:51.015332Z",
     "start_time": "2018-12-17T22:32:31.798283Z"
    }
   },
   "outputs": [
    {
     "name": "stdout",
     "output_type": "stream",
     "text": [
      "cross val score:  0.6073837073056849 0.09159612035098999\n"
     ]
    },
    {
     "data": {
      "text/plain": [
       "array([0.65962014, 0.68603191, 0.5993912 , 0.43319913, 0.65867615])"
      ]
     },
     "execution_count": 17,
     "metadata": {},
     "output_type": "execute_result"
    }
   ],
   "source": [
    "cv = cross_val_score(mlp, X_train, y_train, cv=5)\n",
    "print('cross val score: ', cv.mean(), cv.std())\n",
    "cv"
   ]
  },
  {
   "cell_type": "code",
   "execution_count": 18,
   "metadata": {
    "ExecuteTime": {
     "end_time": "2018-12-17T22:32:52.187681Z",
     "start_time": "2018-12-17T22:32:51.033320Z"
    }
   },
   "outputs": [
    {
     "name": "stderr",
     "output_type": "stream",
     "text": [
      "c:\\python37\\lib\\site-packages\\scipy\\stats\\stats.py:1713: FutureWarning: Using a non-tuple sequence for multidimensional indexing is deprecated; use `arr[tuple(seq)]` instead of `arr[seq]`. In the future this will be interpreted as an array index, `arr[np.array(seq)]`, which will result either in an error or a different result.\n",
      "  return np.add.reduce(sorted[indexer] * weights, axis=axis) / sumval\n"
     ]
    },
    {
     "data": {
      "image/png": "[encoded data removed]",
      "text/plain": [
       "<Figure size 1080x720 with 4 Axes>"
      ]
     },
     "metadata": {
      "needs_background": "light"
     },
     "output_type": "display_data"
    }
   ],
   "source": [
    "actual = features.test_df['NA_Sales']\n",
    "predicted = mlp.predict(features.test_df[cols])\n",
    "\n",
    "mdst.diagnostic_graphs_LR(actual, predicted)"
   ]
  },
  {
   "cell_type": "code",
   "execution_count": 19,
   "metadata": {
    "ExecuteTime": {
     "end_time": "2018-12-17T22:32:54.987064Z",
     "start_time": "2018-12-17T22:32:52.191663Z"
    }
   },
   "outputs": [
    {
     "name": "stdout",
     "output_type": "stream",
     "text": [
      "training score:  0.8820797353328773\n",
      "testing score:  0.5365861639294214\n"
     ]
    }
   ],
   "source": [
    "# split, fit, and score\n",
    "# X_train, y_train = features.train_df[cols], features.train_df['NA_Sales']\n",
    "# X_test, y_test = features.test_df[cols], features.test_df['NA_Sales']\n",
    "# X, y = features.df[cols], features.df['NA_Sales']\n",
    "\n",
    "\n",
    "rf = RandomForestRegressor(n_estimators = 100, max_depth=20, min_samples_leaf=2, min_samples_split=5, max_features=.5)\n",
    "\n",
    "rf.fit(X_train,y_train)\n",
    "print('training score: ',rf.score(X_train, y_train))\n",
    "print('testing score: ', rf.score(X_test, y_test))\n"
   ]
  },
  {
   "cell_type": "code",
   "execution_count": 20,
   "metadata": {
    "ExecuteTime": {
     "end_time": "2018-12-17T22:33:05.335162Z",
     "start_time": "2018-12-17T22:32:54.991063Z"
    }
   },
   "outputs": [
    {
     "name": "stdout",
     "output_type": "stream",
     "text": [
      "cross val score:  0.7082729404314125 0.08817081371768676\n"
     ]
    },
    {
     "data": {
      "text/plain": [
       "array([0.80758103, 0.78956308, 0.68443798, 0.56080871, 0.6989739 ])"
      ]
     },
     "execution_count": 20,
     "metadata": {},
     "output_type": "execute_result"
    }
   ],
   "source": [
    "\n",
    "cv = cross_val_score(rf, X_train, y_train, cv=5)\n",
    "print('cross val score: ', cv.mean(), cv.std())\n",
    "cv"
   ]
  },
  {
   "cell_type": "code",
   "execution_count": 21,
   "metadata": {
    "ExecuteTime": {
     "end_time": "2018-12-17T22:33:07.163120Z",
     "start_time": "2018-12-17T22:33:05.340159Z"
    }
   },
   "outputs": [
    {
     "name": "stderr",
     "output_type": "stream",
     "text": [
      "c:\\python37\\lib\\site-packages\\scipy\\stats\\stats.py:1713: FutureWarning: Using a non-tuple sequence for multidimensional indexing is deprecated; use `arr[tuple(seq)]` instead of `arr[seq]`. In the future this will be interpreted as an array index, `arr[np.array(seq)]`, which will result either in an error or a different result.\n",
      "  return np.add.reduce(sorted[indexer] * weights, axis=axis) / sumval\n"
     ]
    },
    {
     "data": {
      "image/png": "[encoded data removed]",
      "text/plain": [
       "<Figure size 1080x720 with 4 Axes>"
      ]
     },
     "metadata": {
      "needs_background": "light"
     },
     "output_type": "display_data"
    }
   ],
   "source": [
    "actual = features.test_df['NA_Sales']\n",
    "predicted = rf.predict(features.test_df[cols])\n",
    "\n",
    "mdst.diagnostic_graphs_LR(actual, predicted)"
   ]
  }
 ],
 "metadata": {
  "kernelspec": {
   "display_name": "Python 3",
   "language": "python",
   "name": "python3"
  },
  "language_info": {
   "codemirror_mode": {
    "name": "ipython",
    "version": 3
   },
   "file_extension": ".py",
   "mimetype": "text/x-python",
   "name": "python",
   "nbconvert_exporter": "python",
   "pygments_lexer": "ipython3",
   "version": "3.7.1"
  },
  "toc": {
   "base_numbering": 1,
   "nav_menu": {},
   "number_sections": true,
   "sideBar": true,
   "skip_h1_title": false,
   "title_cell": "Table of Contents",
   "title_sidebar": "Contents",
   "toc_cell": false,
   "toc_position": {},
   "toc_section_display": true,
   "toc_window_display": false
  }
 },
 "nbformat": 4,
 "nbformat_minor": 2
}
