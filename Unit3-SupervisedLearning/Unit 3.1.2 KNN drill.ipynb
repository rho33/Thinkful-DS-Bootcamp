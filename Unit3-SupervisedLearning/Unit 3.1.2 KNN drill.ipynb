{
 "cells": [
  {
   "cell_type": "markdown",
   "metadata": {},
   "source": [
    "## DRILL:\n",
    "\n",
    "Let's say we work at a credit card company and we're trying to figure out if people are going to pay their bills on time. We have everyone's purchases, split into four main categories: groceries, dining out, utilities, and entertainment. \n",
    "- What are some ways you might use KNN to create this model? \n",
    "- What aspects of KNN would be useful? \n",
    "\n",
    "Write up your thoughts in submit a link below."
   ]
  },
  {
   "cell_type": "markdown",
   "metadata": {},
   "source": [
    "We could just use the 4 spending categories given to us in a KNN model, but this may not be very useful on its own. We could add total absolute spending, since that is easy to calculate and may be importnt. Absolute spending likely won't be as useful as it could be without any income or wealth measurements. To get around this, we could engineer some features that show us the proportion of a persons spent money on each category. We could also look at how all these features change over time (year to tyear, month to month, week to week...), possibly using deviation from averages as a feature. Previous payment history could also be used as a feature (e.g. how many times was a person late in past 12 months?). \n",
    "\n",
    "KNN would be useful for this problem because it is simple to implement. Not needing assumptions about the data should allow creative and streamlined feature engineering. KNN tends to be very accurate with large amounts of data, which a credit card company should have. KNN may also be able to accurately predict more variance than a model like linear regression could. This seems especially relevant when the explanatory power of features is likely to be very dependent on variables we cannot see (income and wealth). For example, a large proportion of someone's money spent on groceries might indicate someone doesn't have much money and might not pay their bills on time, or it could indicate that someone is frugal and responsible and will pay their bills on time. A nearest neighbor algorithm should pick up on this kind of variance more easily than a linear regression model whose features would have to be engineered to understand the relationship between grocery spending and other categories.  "
   ]
  }
 ],
 "metadata": {
  "kernelspec": {
   "display_name": "Python 3",
   "language": "python",
   "name": "python3"
  },
  "language_info": {
   "codemirror_mode": {
    "name": "ipython",
    "version": 3
   },
   "file_extension": ".py",
   "mimetype": "text/x-python",
   "name": "python",
   "nbconvert_exporter": "python",
   "pygments_lexer": "ipython3",
   "version": "3.6.2"
  }
 },
 "nbformat": 4,
 "nbformat_minor": 2
}
