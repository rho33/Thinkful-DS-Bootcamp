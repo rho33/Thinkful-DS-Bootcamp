{
 "cells": [
  {
   "cell_type": "markdown",
   "metadata": {},
   "source": [
    "# DRILL: When to use surveys \n",
    "State whether a survey would be the best option for answering each of the following questions.\n",
    "\n",
    " 1. Popularity of various Uber drivers. \n",
    "     - Yes. Uber already does this with their star rating after each ride. That's a single question survey.\n",
    " 2. A grocery store wants to know how much people like strawberry, chocolate, and vanilla ice cream. \n",
    "     - No. Use the purchase data.\n",
    " 3. Trojan wants to know whether their condoms are more popular among straight people or gay people. \n",
    "     - Unsure. Gay people are less likely to answer a sexual orientation question than straight people, but I can't think of a better alternative. The survey may just have to be more carefully designed and distributed (preselected survey panels).\n",
    " 4. Recently, rental rates for HappyCars have increased by 30%, which is quite unusual. You want to find out why this is happening and how to keep the increase going.\n",
    "     - Yes.\n",
    " 5. Assessing the success rate of a new advertising campaign.\n",
    "     - No. The actual sales data (e.g. a/b testing) would be best. A survey may be helpful supplemental information \n",
    " 6. Measuring the effect of nurse/patient ratio on patient recovery rates in hospital wards.\n",
    "     - No. Use the actual recovery rate data."
   ]
  }
 ],
 "metadata": {
  "kernelspec": {
   "display_name": "Python 3",
   "language": "python",
   "name": "python3"
  },
  "language_info": {
   "codemirror_mode": {
    "name": "ipython",
    "version": 3
   },
   "file_extension": ".py",
   "mimetype": "text/x-python",
   "name": "python",
   "nbconvert_exporter": "python",
   "pygments_lexer": "ipython3",
   "version": "3.7.1"
  },
  "toc": {
   "base_numbering": 1,
   "nav_menu": {},
   "number_sections": true,
   "sideBar": true,
   "skip_h1_title": false,
   "title_cell": "Table of Contents",
   "title_sidebar": "Contents",
   "toc_cell": false,
   "toc_position": {},
   "toc_section_display": true,
   "toc_window_display": false
  }
 },
 "nbformat": 4,
 "nbformat_minor": 2
}
