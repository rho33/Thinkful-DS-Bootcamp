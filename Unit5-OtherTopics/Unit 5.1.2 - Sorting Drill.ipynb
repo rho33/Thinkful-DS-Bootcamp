{
 "cells": [
  {
   "cell_type": "code",
   "execution_count": 1,
   "metadata": {
    "ExecuteTime": {
     "end_time": "2019-01-22T08:14:14.275234Z",
     "start_time": "2019-01-22T08:14:14.269239Z"
    }
   },
   "outputs": [],
   "source": [
    "import random"
   ]
  },
  {
   "cell_type": "markdown",
   "metadata": {},
   "source": [
    "Return to the sorting wiki page and pick an algorithm we haven't covered here (you probably want to pick one of the simpler ones, but it's up to you. Implement it in Python below and see how it compares in sorting our short and long lists. You should be able to easily find guides on how to implement any of the algorithms. Can you figure out why it runs faster or slower than our other sorting algorithms?\n",
    "\n",
    "Some good sorts to try are:\n",
    "\n",
    "- Heap Sort\n",
    "- Selection Sort\n",
    "- QuickSort"
   ]
  },
  {
   "cell_type": "code",
   "execution_count": 2,
   "metadata": {
    "ExecuteTime": {
     "end_time": "2019-01-22T08:14:14.389183Z",
     "start_time": "2019-01-22T08:14:14.280231Z"
    }
   },
   "outputs": [],
   "source": [
    "short_list = list(random.sample(range(1000000), 10))\n",
    "long_list = list(random.sample(range(1000000), 10000))"
   ]
  },
  {
   "cell_type": "markdown",
   "metadata": {},
   "source": [
    "# Merge Sort (from curriculum"
   ]
  },
  {
   "cell_type": "code",
   "execution_count": 3,
   "metadata": {
    "ExecuteTime": {
     "end_time": "2019-01-22T08:14:14.484273Z",
     "start_time": "2019-01-22T08:14:14.393168Z"
    }
   },
   "outputs": [],
   "source": [
    "# Our merge function takes two ordered lists and merges them together into one ordered list\n",
    "\n",
    "def merge(a, b):\n",
    "    # Check for empty list.\n",
    "    if len(a) == 0 or len(b) == 0:\n",
    "        return a or b\n",
    "    \n",
    "    # Start with an empty result.\n",
    "    result = []\n",
    "    # Track two indexes.\n",
    "    i, j = 0, 0\n",
    "    # Set a while condition to ensure we iterate only for the length of our two lists.\n",
    "    while (len(result) < len(a) + len(b)):\n",
    "        # If a's next element is lower append that element to our result.\n",
    "        if a[i] < b[j]:\n",
    "            result.append(a[i])\n",
    "            i += 1\n",
    "        # Otherwise append b's next element.\n",
    "        else:\n",
    "            result.append(b[j])\n",
    "            j += 1\n",
    "        # When one list is empty just append everything from the other list and stop.\n",
    "        if i == len(a) or j == len(b):\n",
    "            result.extend(a[i:] or b[j:])\n",
    "            break \n",
    "\n",
    "    return result\n",
    "\n",
    "def merge_sort(lst):\n",
    "    if len(lst) < 2:\n",
    "        return lst\n",
    "\n",
    "    mid = int(len(lst) / 2)\n",
    "    a = merge_sort(lst[:mid])\n",
    "    b = merge_sort(lst[mid:])\n",
    "\n",
    "    return merge(a, b)\n"
   ]
  },
  {
   "cell_type": "code",
   "execution_count": 4,
   "metadata": {
    "ExecuteTime": {
     "end_time": "2019-01-22T08:14:14.611520Z",
     "start_time": "2019-01-22T08:14:14.488275Z"
    }
   },
   "outputs": [
    {
     "data": {
      "text/plain": [
       "[46884, 79355, 94717, 385606, 439756, 452978, 564789, 662985, 820512, 919441]"
      ]
     },
     "execution_count": 4,
     "metadata": {},
     "output_type": "execute_result"
    }
   ],
   "source": [
    "merge_sort(short_list)"
   ]
  },
  {
   "cell_type": "code",
   "execution_count": 5,
   "metadata": {
    "ExecuteTime": {
     "end_time": "2019-01-22T08:14:14.839753Z",
     "start_time": "2019-01-22T08:14:14.615517Z"
    }
   },
   "outputs": [],
   "source": [
    "s = merge_sort(long_list)"
   ]
  },
  {
   "cell_type": "code",
   "execution_count": 6,
   "metadata": {
    "ExecuteTime": {
     "end_time": "2019-01-22T08:14:14.887687Z",
     "start_time": "2019-01-22T08:14:14.842736Z"
    }
   },
   "outputs": [
    {
     "data": {
      "text/plain": [
       "True"
      ]
     },
     "execution_count": 6,
     "metadata": {},
     "output_type": "execute_result"
    }
   ],
   "source": [
    "s == sorted(long_list)"
   ]
  },
  {
   "cell_type": "markdown",
   "metadata": {},
   "source": [
    "# Insert Sort (from curriculum)"
   ]
  },
  {
   "cell_type": "code",
   "execution_count": 7,
   "metadata": {
    "ExecuteTime": {
     "end_time": "2019-01-22T08:14:15.025137Z",
     "start_time": "2019-01-22T08:14:14.890687Z"
    }
   },
   "outputs": [],
   "source": [
    "def insert_sort(input_list):\n",
    "    # Copy the input to a new list so we don't modify the original.\n",
    "    new_list = input_list\n",
    "    \n",
    "    # Iterate through the list.\n",
    "    for i in range(len(new_list)):\n",
    "        # Assign place to a new variable.\n",
    "        j = i\n",
    "        \n",
    "        # Move through the list as long as the previous position is larger\n",
    "        # than the current element of list.\n",
    "        while j > 0 and new_list[j - 1] > new_list[j]:\n",
    "            \n",
    "            # Swap places.\n",
    "            new_list[j - 1], new_list[j] = new_list[j], new_list[j - 1]\n",
    "            \n",
    "            # Reduce j by one.\n",
    "            j = j - 1\n",
    "    return new_list"
   ]
  },
  {
   "cell_type": "code",
   "execution_count": 8,
   "metadata": {
    "ExecuteTime": {
     "end_time": "2019-01-22T08:14:15.172103Z",
     "start_time": "2019-01-22T08:14:15.028066Z"
    }
   },
   "outputs": [
    {
     "data": {
      "text/plain": [
       "[46884, 79355, 94717, 385606, 439756, 452978, 564789, 662985, 820512, 919441]"
      ]
     },
     "execution_count": 8,
     "metadata": {},
     "output_type": "execute_result"
    }
   ],
   "source": [
    "insert_sort(short_list)"
   ]
  },
  {
   "cell_type": "code",
   "execution_count": 9,
   "metadata": {
    "ExecuteTime": {
     "end_time": "2019-01-22T08:14:26.219742Z",
     "start_time": "2019-01-22T08:14:15.179096Z"
    }
   },
   "outputs": [],
   "source": [
    "s = insert_sort(long_list)"
   ]
  },
  {
   "cell_type": "code",
   "execution_count": 10,
   "metadata": {
    "ExecuteTime": {
     "end_time": "2019-01-22T08:14:26.232700Z",
     "start_time": "2019-01-22T08:14:26.223705Z"
    }
   },
   "outputs": [
    {
     "data": {
      "text/plain": [
       "True"
      ]
     },
     "execution_count": 10,
     "metadata": {},
     "output_type": "execute_result"
    }
   ],
   "source": [
    "s == sorted(long_list)"
   ]
  },
  {
   "cell_type": "markdown",
   "metadata": {},
   "source": [
    "# Selection Sort"
   ]
  },
  {
   "cell_type": "markdown",
   "metadata": {},
   "source": [
    "Selection sort is an in-place comparison sort. It has O(n^2) complexity, making it inefficient on large lists, and generally performs worse than the similar insertion sort. Selection sort is noted for its simplicity, and also has performance advantages over more complicated algorithms in certain situations.\n",
    "\n",
    "The algorithm finds the minimum value, swaps it with the value in the first position, and repeats these steps for the remainder of the list.[20] It does no more than n swaps, and thus is useful where swapping is very expensive."
   ]
  },
  {
   "cell_type": "code",
   "execution_count": 11,
   "metadata": {
    "ExecuteTime": {
     "end_time": "2019-01-22T08:14:26.384479Z",
     "start_time": "2019-01-22T08:14:26.236698Z"
    }
   },
   "outputs": [],
   "source": [
    "# Selection Sort\n",
    "\n",
    "def selection_sort(input_list):\n",
    "    for i in range(len(input_list)):\n",
    "        mi = input_list.index(min(input_list[i:])) #index of minimum value\n",
    "        input_list[i], input_list[mi] = input_list[mi], input_list[i]\n",
    "    return input_list"
   ]
  },
  {
   "cell_type": "code",
   "execution_count": 12,
   "metadata": {
    "ExecuteTime": {
     "end_time": "2019-01-22T08:14:26.527899Z",
     "start_time": "2019-01-22T08:14:26.387482Z"
    }
   },
   "outputs": [
    {
     "data": {
      "text/plain": [
       "[46884, 79355, 94717, 385606, 439756, 452978, 564789, 662985, 820512, 919441]"
      ]
     },
     "execution_count": 12,
     "metadata": {},
     "output_type": "execute_result"
    }
   ],
   "source": [
    "selection_sort(short_list)"
   ]
  },
  {
   "cell_type": "code",
   "execution_count": 13,
   "metadata": {
    "ExecuteTime": {
     "end_time": "2019-01-22T08:14:29.763588Z",
     "start_time": "2019-01-22T08:14:26.531894Z"
    }
   },
   "outputs": [],
   "source": [
    "s = selection_sort(long_list)"
   ]
  },
  {
   "cell_type": "code",
   "execution_count": 14,
   "metadata": {
    "ExecuteTime": {
     "end_time": "2019-01-22T08:14:29.779568Z",
     "start_time": "2019-01-22T08:14:29.766572Z"
    }
   },
   "outputs": [
    {
     "data": {
      "text/plain": [
       "True"
      ]
     },
     "execution_count": 14,
     "metadata": {},
     "output_type": "execute_result"
    }
   ],
   "source": [
    "s == sorted(long_list)"
   ]
  }
 ],
 "metadata": {
  "kernelspec": {
   "display_name": "Python 3",
   "language": "python",
   "name": "python3"
  },
  "language_info": {
   "codemirror_mode": {
    "name": "ipython",
    "version": 3
   },
   "file_extension": ".py",
   "mimetype": "text/x-python",
   "name": "python",
   "nbconvert_exporter": "python",
   "pygments_lexer": "ipython3",
   "version": "3.7.1"
  },
  "toc": {
   "base_numbering": 1,
   "nav_menu": {},
   "number_sections": true,
   "sideBar": true,
   "skip_h1_title": false,
   "title_cell": "Table of Contents",
   "title_sidebar": "Contents",
   "toc_cell": false,
   "toc_position": {},
   "toc_section_display": true,
   "toc_window_display": false
  }
 },
 "nbformat": 4,
 "nbformat_minor": 2
}
