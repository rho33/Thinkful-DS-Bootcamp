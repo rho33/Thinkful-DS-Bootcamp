{
 "cells": [
  {
   "cell_type": "markdown",
   "metadata": {},
   "source": [
    "DRILL:\n",
    "\n",
    "Implement a binary tree, which is filled with 15 pieces of random data. Your job is to then write a program to traverse the tree using a breadth first traversal. If you want additional practice, try other forms of traversal."
   ]
  },
  {
   "cell_type": "code",
   "execution_count": 1,
   "metadata": {
    "ExecuteTime": {
     "end_time": "2019-01-22T22:20:10.252139Z",
     "start_time": "2019-01-22T22:20:10.247141Z"
    }
   },
   "outputs": [],
   "source": [
    "import random"
   ]
  },
  {
   "cell_type": "code",
   "execution_count": 2,
   "metadata": {
    "ExecuteTime": {
     "end_time": "2019-01-22T22:20:10.367075Z",
     "start_time": "2019-01-22T22:20:10.257140Z"
    }
   },
   "outputs": [],
   "source": [
    "class Node:\n",
    "    def __init__(self, val):\n",
    "        self.left = None\n",
    "        self.right = None\n",
    "        self.val = val"
   ]
  },
  {
   "cell_type": "code",
   "execution_count": 3,
   "metadata": {
    "ExecuteTime": {
     "end_time": "2019-01-22T22:20:10.490107Z",
     "start_time": "2019-01-22T22:20:10.371069Z"
    }
   },
   "outputs": [],
   "source": [
    "\n",
    "def rand_perfect_binary_tree(root, levels):\n",
    "    levels -= 1\n",
    "\n",
    "    if levels:\n",
    "        root.left = Node(random.randint(1,100))\n",
    "        rand_perfect_binary_tree(root.left, levels)\n",
    "        \n",
    "        root.right = Node(random.randint(1,100))\n",
    "        rand_perfect_binary_tree(root.right, levels)\n",
    "\n"
   ]
  },
  {
   "cell_type": "code",
   "execution_count": 4,
   "metadata": {
    "ExecuteTime": {
     "end_time": "2019-01-22T22:20:10.611537Z",
     "start_time": "2019-01-22T22:20:10.495089Z"
    }
   },
   "outputs": [],
   "source": [
    "root = Node(random.randint(1,100))\n",
    "rand_perfect_binary_tree(root,4)"
   ]
  },
  {
   "cell_type": "code",
   "execution_count": 5,
   "metadata": {
    "ExecuteTime": {
     "end_time": "2019-01-22T22:20:10.736161Z",
     "start_time": "2019-01-22T22:20:10.614460Z"
    }
   },
   "outputs": [],
   "source": [
    "def print_level(root , level):\n",
    "    if root is None:\n",
    "        return False\n",
    "    if level == 1:\n",
    "        if root.val:\n",
    "            print(root.val)\n",
    "        \n",
    "    elif level > 1:\n",
    "        print_level(root.left , level-1)\n",
    "        print_level(root.right , level-1)\n",
    "        \n",
    "def print_all_levels(nodes, level=1):\n",
    "    if not any(nodes):\n",
    "        return\n",
    "    new_nodes = []\n",
    "    node_vals = []\n",
    "    for node in nodes:\n",
    "        if node:\n",
    "            node_vals.append(node.val)\n",
    "        else:\n",
    "            node_vals.append(None)\n",
    "        new_nodes += [node.left, node.right]\n",
    "    print('level ', level)\n",
    "    print(node_vals)\n",
    "    print_all_levels(new_nodes, level+1)\n"
   ]
  },
  {
   "cell_type": "code",
   "execution_count": 6,
   "metadata": {
    "ExecuteTime": {
     "end_time": "2019-01-22T22:20:10.861625Z",
     "start_time": "2019-01-22T22:20:10.740160Z"
    }
   },
   "outputs": [
    {
     "name": "stdout",
     "output_type": "stream",
     "text": [
      "level  1\n",
      "[59]\n",
      "level  2\n",
      "[10, 62]\n",
      "level  3\n",
      "[96, 42, 20, 31]\n",
      "level  4\n",
      "[69, 50, 38, 25, 36, 39, 47, 61]\n"
     ]
    }
   ],
   "source": [
    "print_all_levels([root])"
   ]
  }
 ],
 "metadata": {
  "kernelspec": {
   "display_name": "Python 3",
   "language": "python",
   "name": "python3"
  },
  "language_info": {
   "codemirror_mode": {
    "name": "ipython",
    "version": 3
   },
   "file_extension": ".py",
   "mimetype": "text/x-python",
   "name": "python",
   "nbconvert_exporter": "python",
   "pygments_lexer": "ipython3",
   "version": "3.7.1"
  },
  "toc": {
   "base_numbering": 1,
   "nav_menu": {},
   "number_sections": true,
   "sideBar": true,
   "skip_h1_title": false,
   "title_cell": "Table of Contents",
   "title_sidebar": "Contents",
   "toc_cell": false,
   "toc_position": {},
   "toc_section_display": true,
   "toc_window_display": false
  }
 },
 "nbformat": 4,
 "nbformat_minor": 2
}
