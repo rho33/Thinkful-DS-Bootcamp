{
 "cells": [
  {
   "cell_type": "markdown",
   "metadata": {},
   "source": [
    "## Below we have a series of questions for you to translate into a technical plan.\n",
    "\n",
    "## For each question, describe how you would make it testable and translate it from a general question into something statistically rigorous. "
   ]
  },
  {
   "cell_type": "markdown",
   "metadata": {},
   "source": [
    "1. **You work at an e-commerce company that sells three goods: widgets, doodads, and fizzbangs. The head of advertising asks you which they should feature in their new advertising campaign. You have data on individual visitors' sessions (activity on a website, pageviews, and purchases), as well as whether or not those users converted from an advertisement for that session. You also have the cost and price information for the goods.**"
   ]
  },
  {
   "cell_type": "markdown",
   "metadata": {},
   "source": [
    "You probably want to ask which item is going to result in the largest profit increase when featured in the ad campaign. From the cost and price information, you would want to identify the margin on each product. Then, using your data on individual visitors' sessions, you would need to estimate how effective each ad campaign would be at increasing sales of the products. Assuming you have already advertised for each of the three products on the site before, you could split users up into groups based on what products had been advertised to them and compare conversion rates. With both the product margin and the change in conversion rates, you should be able to estimate which ad will result in the largest profit increase. "
   ]
  },
  {
   "cell_type": "markdown",
   "metadata": {},
   "source": [
    "2. **You work at a web design company that offers to build websites for clients. Signups have slowed, and you are tasked with finding out why. The onboarding funnel has three steps: email and password signup, plan choice, and payment. On a user level you have information on what steps they have completed as well as timestamps for all of those events for the past 3 years. You also have information on marketing spend on a weekly level.**"
   ]
  },
  {
   "cell_type": "markdown",
   "metadata": {},
   "source": [
    "First you should identify how statistically significant the signup slowdowns are. Then you could explore whether or not  the relationship between marketing spend and signups has changed recently. Basically you want to know how much of the change in signups (if any) can be explained by changes in marketing spend, and how much a change in marketing spend might affect signups going forward. Additionally you could look for any change in the ratio of complete sign ups to incomplete sign ups, as well as exploring how changes in marketing spend affect the ratio of complete sign ups to incomplete sign ups."
   ]
  },
  {
   "cell_type": "markdown",
   "metadata": {},
   "source": [
    "3. **You work at a hotel website and currently the website ranks search results by price. For simplicity's sake, let's say it's a website for one city with 100 hotels. You are tasked with proposing a better ranking system. You have session information, price information for the hotels, and whether each hotel is currently available.**"
   ]
  },
  {
   "cell_type": "markdown",
   "metadata": {},
   "source": [
    "At the very least, you could filter out the hotels that are unavailable (maybe showing them in grey or crossed out at the bottom of the search results). After filtering out unavailability, you could rank by most frequently purchased (or clicked on if you don't have this information) given the search criteria. "
   ]
  },
  {
   "cell_type": "markdown",
   "metadata": {},
   "source": [
    "4. **You work at a social network, and the management is worried about churn (users stopping using the product). You are tasked with finding out if their churn is atypical. You have three years of data for users with an entry for every time they've logged in, including the timestamp and length of session.**"
   ]
  },
  {
   "cell_type": "markdown",
   "metadata": {},
   "source": [
    "You could divide your user data into time frames (weeks, days, months), compare average user sessions and length of sessions across the time frames, and test if there has been a statistically significant drop in these user metrics in the most recent days, weeks, months, or year."
   ]
  }
 ],
 "metadata": {
  "kernelspec": {
   "display_name": "Python 3",
   "language": "python",
   "name": "python3"
  },
  "language_info": {
   "codemirror_mode": {
    "name": "ipython",
    "version": 3
   },
   "file_extension": ".py",
   "mimetype": "text/x-python",
   "name": "python",
   "nbconvert_exporter": "python",
   "pygments_lexer": "ipython3",
   "version": "3.6.2"
  }
 },
 "nbformat": 4,
 "nbformat_minor": 2
}
