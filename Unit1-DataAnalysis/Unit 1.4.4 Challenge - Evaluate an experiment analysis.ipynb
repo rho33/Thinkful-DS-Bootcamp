{
 "cells": [
  {
   "cell_type": "markdown",
   "metadata": {},
   "source": [
    "# Challenge: Evaluate an experiment analysis\n",
    "\n",
    "Now it's time to flex your critical evaluation skills. Read the following descriptions of an experiment and its analysis, identify the flaws in each, and describe what you would do to correct them."
   ]
  },
  {
   "cell_type": "markdown",
   "metadata": {},
   "source": [
    "##  #1\n",
    "The Sith Lords are concerned that their recruiting slogan, \"Give In to Your Anger,\" isn't very effective. Darth Vader develops an alternative slogan, \"Together We Can Rule the Galaxy.\" They compare the slogans on two groups of 50 captured droids each. In one group, Emperor Palpatine delivers the \"Anger\" slogan. In the other, Darth Vader presents the \"Together\" slogan. 20 droids convert to the Dark Side after hearing Palpatine's slogan, while only 5 droids convert after hearing Vader's. The Sith's data scientist concludes that \"Anger\" is a more effective slogan and should continue to be used.\n",
    "\n",
    "## Answer\n",
    "The slogan was delivered by two different people, which could affect the outcome. Perhaps the emperor is more persuasive than Darth Vader. They could fix this by either having the same person deliver the solgans, or by having both people deliver both slogans (so 4 separate groups). The droids are also captured (and not human) which may not represent the entire population of people the Sith Lords wish to target. They could fix this by getting a more representative sample of the people (or droids) they are targeting. \n"
   ]
  },
  {
   "cell_type": "markdown",
   "metadata": {},
   "source": [
    "## #2\n",
    "In the past, the Jedi have had difficulty with public relations. They send two envoys, Jar Jar Binks and Mace Windu, to four friendly and four unfriendly planets respectively, with the goal of promoting favorable feelings toward the Jedi. Upon their return, the envoys learn that Jar Jar was much more effective than Windu: Over 75% of the people surveyed said their attitudes had become more favorable after speaking with Jar Jar, while only 65% said their attitudes had become more favorable after speaking with Windu. This makes Windu angry, because he is sure that he had a better success rate than Jar Jar on every planet. The Jedi choose Jar Jar to be their representative in the future.\n",
    "\n",
    "## Answer\n",
    "The Jedi should be sending the two envoys to the same planets and dividing up the two groups of people each envoy will be attempting to influence after they are already on the planet. Perhaps some planets are just more persuadable than others. There should also be a measure of significance or at least a reporting of sample size when comparing the percentage of people whose attitudes had become more favorable. The jedi may also want to include whether or not anyone's attitudes had become less favorable after speaking with an envoy."
   ]
  },
  {
   "cell_type": "markdown",
   "metadata": {},
   "source": [
    "## #3\n",
    "A company with work sites in five different countries has sent you data on employee satisfaction rates for workers in Human Resources and workers in Information Technology. Most HR workers are concentrated in three of the countries, while IT workers are equally distributed across worksites. The company requests a report on satisfaction for each job type. You calculate average job satisfaction for HR and for IT and present the report.\n",
    "\n",
    "## Answer\n",
    "The country that a worker works in could be a lurking variable. When comparing job satisfaction between HR and IT workers, the company should focus on the differences between the two groups of workers within each country."
   ]
  },
  {
   "cell_type": "markdown",
   "metadata": {},
   "source": [
    "## #4\n",
    "When people install the Happy Days Fitness Tracker app, they are asked to \"opt in\" to a data collection scheme where their level of physical activity data is automatically sent to the company for product research purposes. During your interview with the company, they tell you that the app is very effective because after installing the app, the data show that people's activity levels rise steadily.\n",
    "\n",
    "## Answer\n",
    "The people who opt in may not be similar to the people who don't opt in. This could mean your findings are not representative of the entire population of people who use the app. Possible solutions include not asking people to opt in, just collecting the data. If that's not legal, make people opt in for the app to work (like an Apple TOS agreement). If you make people opt in, make sure its not the first thing they see, you want them to be as emotionally invested as possible in the app before you require them to share their data. If all that is not possible, you could collect data about the people who opt in and don't opt in to try to see if the two groups are similar."
   ]
  },
  {
   "cell_type": "markdown",
   "metadata": {},
   "source": [
    "## #5\n",
    "To prevent cheating, a teacher writes three versions of a test. She stacks the three versions together, first all copies of Version A, then all copies of Version B, then all copies of Version C. As students arrive for the exam, each student takes a test. When grading the test, the teacher finds that students who took Version B scored higher than students who took either Version A or Version C. She concludes from this that Version B is easier, and discards it.\n",
    "\n",
    "## Answer\n",
    "The students who took version B may have scored better on the test than other students regardless of which version they received. Student ability is the lurking variable. To solve this, make each test have the same questions, but in a randomized order. That way the tests are equally as difficult, but it is still very difficult to cheat. "
   ]
  }
 ],
 "metadata": {
  "kernelspec": {
   "display_name": "Python 3",
   "language": "python",
   "name": "python3"
  },
  "language_info": {
   "codemirror_mode": {
    "name": "ipython",
    "version": 3
   },
   "file_extension": ".py",
   "mimetype": "text/x-python",
   "name": "python",
   "nbconvert_exporter": "python",
   "pygments_lexer": "ipython3",
   "version": "3.6.2"
  }
 },
 "nbformat": 4,
 "nbformat_minor": 2
}
