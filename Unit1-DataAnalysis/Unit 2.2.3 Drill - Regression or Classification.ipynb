{
 "cells": [
  {
   "cell_type": "markdown",
   "metadata": {},
   "source": [
    "## For each of the following situations, decide if you would model using a regression or classification model. Discuss your reasoning with your mentor next time you meet.\n",
    "\n",
    "1. The amount a person will spend on a given site in the next 24 months.\n",
    "    - Regression\n",
    "2. What color car someone is going to buy.\n",
    "    - Classification\n",
    "3. How many children a family will have.\n",
    "    - Regression (could use classification as well)\n",
    "4. If someone will sign up for a service.\n",
    "    - Classification\n",
    "5. The number of times someone will get sick in a year.\n",
    "    - Regression (could use classification as well)\n",
    "6. The probability someone will get sick in the next month.\n",
    "    - Regression (Logistic Regression)\n",
    "7. Which medicine will work best for a given patient.\n",
    "    - Classification"
   ]
  }
 ],
 "metadata": {
  "kernelspec": {
   "display_name": "Python 3",
   "language": "python",
   "name": "python3"
  },
  "language_info": {
   "codemirror_mode": {
    "name": "ipython",
    "version": 3
   },
   "file_extension": ".py",
   "mimetype": "text/x-python",
   "name": "python",
   "nbconvert_exporter": "python",
   "pygments_lexer": "ipython3",
   "version": "3.6.2"
  }
 },
 "nbformat": 4,
 "nbformat_minor": 2
}
