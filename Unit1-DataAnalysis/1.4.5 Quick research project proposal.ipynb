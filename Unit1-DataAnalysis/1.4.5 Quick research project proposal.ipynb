{
 "cells": [
  {
   "cell_type": "markdown",
   "metadata": {},
   "source": [
    "# DRILL: Make a quick research proposal\n",
    "Look back to the potential experiments in the previous assignment. For one of those experiments, write up the essential points of a research proposal for an improved version of that experiment."
   ]
  },
  {
   "cell_type": "markdown",
   "metadata": {},
   "source": [
    "# Chosen Experiment:\n",
    "The Sith Lords are concerned that their recruiting slogan, \"Give In to Your Anger,\" isn't very effective. Darth Vader develops an alternative slogan, \"Together We Can Rule the Galaxy.\" They compare the slogans on two groups of 50 captured droids each. In one group, Emperor Palpatine delivers the \"Anger\" slogan. In the other, Darth Vader presents the \"Together\" slogan. 20 droids convert to the Dark Side after hearing Palpatine's slogan, while only 5 droids convert after hearing Vader's. The Sith's data scientist concludes that \"Anger\" is a more effective slogan and should continue to be used.\n",
    "\n",
    "\n",
    "3 parts:\n",
    "\n",
    "- **Problem**:\n",
    "    - Big Question: How can the Sith Lords increase dark side converts?\n",
    "    - Justification - Converting people to the dark side is essential to the health of the Sith Lord order. No converts means the order dies out, and more converts means the order increases their power (all else being equal)\n",
    "    - Narrow Scope Question: Could the current \"Anger\" slogan be replaced with a more effective slogan?\n",
    "\n",
    "- **Potential Solution**:\n",
    "    - Hypothesis: The \"Together\" slogan should be better because it focuses on goals that are generally sought after by people (power, teamwork, control...).\n",
    "\n",
    "- **Method of Testing**:\n",
    "    - Randomly split the next potential dark side converts so that half will hear the \"Anger\" slogan and half hear the \"Together\" slogan\n",
    "        - First gather data on previous potential dark side converts so that you know whether or not the next group of potential converts are representative (watch for lurking variables such as race, species, planet of origin, sex, income, time of year...). \n",
    "        - Also evaluate if there is any reason to believe future potential converts will be significantly different from past potential converts (perhaps the Sith Lords killed an entire planet so nobody from that planet will be a future potential convert).\n",
    "    - Deliver the slogans to the groups results\n",
    "        - Use the same person/mechanism to deliver each slogan. If possible use the person/mechanism that will actually be used going forward.\n",
    "    - Keep splitting future potential converts until there is a 99% significant difference between the groups after having adjusted for lurking variables if necessary."
   ]
  }
 ],
 "metadata": {
  "kernelspec": {
   "display_name": "Python 3",
   "language": "python",
   "name": "python3"
  },
  "language_info": {
   "codemirror_mode": {
    "name": "ipython",
    "version": 3
   },
   "file_extension": ".py",
   "mimetype": "text/x-python",
   "name": "python",
   "nbconvert_exporter": "python",
   "pygments_lexer": "ipython3",
   "version": "3.6.2"
  }
 },
 "nbformat": 4,
 "nbformat_minor": 2
}
