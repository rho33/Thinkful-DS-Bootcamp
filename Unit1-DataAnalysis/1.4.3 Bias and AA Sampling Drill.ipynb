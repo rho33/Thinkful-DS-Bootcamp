{
 "cells": [
  {
   "cell_type": "markdown",
   "metadata": {},
   "source": [
    "# DRILL: Am I Biased?\n",
    "For each of the following scenarios, call out the potential biases in the proposed experiment. Do your best to try to discover not only the bias, but the initial design. There is plenty of room for interpretation here, so make sure to state what assumptions you're making.\n",
    "\n",
    "1. You're testing advertising emails for a bathing suit company and you test one version of the email in February and the other in May.\n",
    "2. You open a clinic to treat anxiety and find that the people who visit show a higher rate of anxiety than the general population.\n",
    "3. You launch a new ad billboard based campaign and see an increase in website visits in the first week.\n",
    "4. You launch a loyalty program but see no change in visits in the first week."
   ]
  },
  {
   "cell_type": "markdown",
   "metadata": {},
   "source": [
    "# 1. You're testing advertising emails for a bathing suit company and you test one version of the email in February and the other in May.\n",
    "\n",
    "Seasonality is likely to affect the results of the advertising emails. More people (in the northern hemisphere) will likely buy bathing suits in May than in February independent of the email version they receive. Sending both email versions during the same time period (randomizing who gets which version) should fix this problem."
   ]
  },
  {
   "cell_type": "markdown",
   "metadata": {},
   "source": [
    " # 2. You open a clinic to treat anxiety and find that the people who visit show a higher rate of anxiety than the general population.\n",
    " \n",
    "That should be expected. The types of people attracted to an anxiety treatment clinic are going to be the ones with the most anxiety to begin with. The relevant question is whether or not the clinic helps reduce the anxiety of its patients, not whether the anxiety of its patients is lower than the general population. This question could be better answered by testing patients' anxiety before and after/during treatment.\n",
    " "
   ]
  },
  {
   "cell_type": "markdown",
   "metadata": {},
   "source": [
    "# 3.  You launch a new ad billboard based campaign and see an increase in website visits in the first week.\n",
    "\n",
    "Kind of a vague example, but a few questions that come to mind:\n",
    "\n",
    "Is is it a significant increase in visits? \n",
    "\n",
    "Did you have projected website visits already that included things like seasonality or unusual circumstances? Was an increase in website visits expected even without the campaign?\n",
    "\n",
    "Could you run the ad billboard campaign in another area to see if you get the same results twice?"
   ]
  },
  {
   "cell_type": "markdown",
   "metadata": {},
   "source": [
    "# 4. . You launch a loyalty program but see no change in visits in the first week.\n",
    "\n",
    "One week is likely not long enough to see the impact of a loyalty program. Measure the impact of the loyalty program over a longer period of time. "
   ]
  }
 ],
 "metadata": {
  "kernelspec": {
   "display_name": "Python 3",
   "language": "python",
   "name": "python3"
  },
  "language_info": {
   "codemirror_mode": {
    "name": "ipython",
    "version": 3
   },
   "file_extension": ".py",
   "mimetype": "text/x-python",
   "name": "python",
   "nbconvert_exporter": "python",
   "pygments_lexer": "ipython3",
   "version": "3.6.2"
  }
 },
 "nbformat": 4,
 "nbformat_minor": 2
}
