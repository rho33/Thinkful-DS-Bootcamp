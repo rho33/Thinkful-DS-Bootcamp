{
 "cells": [
  {
   "cell_type": "markdown",
   "metadata": {},
   "source": [
    "# DRILL: Getting Testy...\n",
    "For each of the following questions, outline how you could use an A/B test to find an answer. Be sure to identify all five key components of an A/B test we outlined above.\n",
    "\n",
    "1. Does a new supplement help people sleep better?\n",
    "2. Will new uniforms help a gym's business?\n",
    "3. Will a new homepage improve my online exotic pet rental business?\n",
    "4. If I put 'please read' in the email subject will more people read my emails?\n"
   ]
  },
  {
   "cell_type": "markdown",
   "metadata": {},
   "source": [
    "# 1. Does a new supplement help people sleep better?\n",
    "\n",
    "- control group - placebo supplement\n",
    "- sample of people in the target group for supplement (probably people who don't sleep well) randomly divided\n",
    "- hypothesis = ppl will sleep better\n",
    "- key metric possibilities = hours asleep, times woken up, time to fall asleep, brainwaves during sleep, alertness/mental sharpness the morning after\n",
    "- other measured variables = self reported feelings"
   ]
  },
  {
   "cell_type": "markdown",
   "metadata": {},
   "source": [
    "# 2. Will new uniforms help a gym's business?\n",
    "\n",
    "- control group \n",
    "    - if gym has multiple locations implement at one and not the other, \n",
    "    - Could have some sales people wear new uniform while others not. \n",
    "    - Could just use past data to predict business metrics with no intervention.\n",
    "- sample \n",
    "    - if gym has multiple locations, choose two most similar to each other. \n",
    "    - Could split new uniforms between sales people according to sales people's previous sales (make sure that not just best sales people get new uniforms). \n",
    " \n",
    "- hypothesis - new uniforms will improve business (increase sales/new memberships w/o unwanted side effects)\n",
    "- key metric = sales/new gym memberships\n",
    "- other measured variables = churn, gym visits,"
   ]
  },
  {
   "cell_type": "markdown",
   "metadata": {},
   "source": [
    "# 3. Will a new homepage improve my online exotic pet rental business?\n",
    "\n",
    "- control group: people who see old homepage\n",
    "- sample: randomly show new visitors new homepage and old homepage\n",
    "- hypothesis: new homepage will improve business (increase profit, rentals, satisfaction...)\n",
    "- key metric: Sales (money earned from pet rentals)\n",
    "- other measured variables\n",
    "    - total pet rentals (possibly broken down by categories)\n",
    "    - customer satisfaction metrics (complaints, reviews, support inquiries...)\n",
    "    - repeat customer metrics"
   ]
  },
  {
   "cell_type": "markdown",
   "metadata": {},
   "source": [
    "# 4. If I put 'please read' in the email subject will more people read my emails?\n",
    "\n",
    "- control group: people who receive emails without 'please read' in the subject line\n",
    "- samples: every time a new email is sent have two versions (one with 'please read' and one without) and randomize who sees which one\n",
    "- hypothesis: more people will read emails with 'please read' in subject line\n",
    "- key metric: either emails opened or some way to know that people read the email (responses to email if applicable, or perhaps a hyperlink towards the end of the email)\n",
    "- other measured variables\n",
    "    - responses\n",
    "    - following links\n",
    "    - opened emails"
   ]
  }
 ],
 "metadata": {
  "kernelspec": {
   "display_name": "Python 3",
   "language": "python",
   "name": "python3"
  },
  "language_info": {
   "codemirror_mode": {
    "name": "ipython",
    "version": 3
   },
   "file_extension": ".py",
   "mimetype": "text/x-python",
   "name": "python",
   "nbconvert_exporter": "python",
   "pygments_lexer": "ipython3",
   "version": "3.6.2"
  }
 },
 "nbformat": 4,
 "nbformat_minor": 2
}
