{
 "cells": [
  {
   "cell_type": "markdown",
   "metadata": {},
   "source": [
    "Categorize each of the following research questions as \"good\" or \"bad\", and provide alternative formulations for the bad ones.\n",
    "\n",
    "1. What is the 1994 rate of juvenile delinquency in the U.S.?\n",
    "    - Bad. This should already be known. \"juvenile delinquency\" not specific enough.\n",
    "    - Alternative: What was the 1994 juvenile arrest rate?  \n",
    "2. What can we do to reduce juvenile delinquency in the U.S.?\n",
    "    - Bad. Too broad. Could be split up into many different questions similar to question 3 below.\n",
    "    - What are the factors that explain juvenile delinquency most?\n",
    "3. Does education play a role in reducing juvenile delinquents' return to crime?\n",
    "    - Good. Could be more specific. What factors of education (drop out rate, grades...) could be measured. \"return to crime\" could be more specific.\n",
    "4. How many customers does AT&T currently serve in Washington, DC?\n",
    "    - Good\n",
    "5. What factors lead consumers to choose AT&T over other service providers?\n",
    "    - Good\n",
    "6. How can AT&T attract more customers?\n",
    "    - Good/Bad. Too Broad. Could focus in on whether a focusing on a particular factor will attract more customers.\n",
    "7. Why did the Challenger Shuttle explode?\n",
    "    - Bad. Already known. Space shuttle explosions are not frequent enough to build a statistical models. Would likely require simulation modeling and domain expertise not typically available to a data scientist. \n",
    "8. Which genes are associated with increased risk of breast cancer?\n",
    "    - Good\n",
    "9. Is it better to read to children at night or in the morning?\n",
    "    - Bad/Good. \"better\" would need to be more defined but possible. A good way of collecting this data may be difficult to find but possible.\n",
    "10. How does Google’s search algorithm work?\n",
    "    - Bad. Too Broad."
   ]
  }
 ],
 "metadata": {
  "kernelspec": {
   "display_name": "Python 3",
   "language": "python",
   "name": "python3"
  },
  "language_info": {
   "codemirror_mode": {
    "name": "ipython",
    "version": 3
   },
   "file_extension": ".py",
   "mimetype": "text/x-python",
   "name": "python",
   "nbconvert_exporter": "python",
   "pygments_lexer": "ipython3",
   "version": "3.6.2"
  }
 },
 "nbformat": 4,
 "nbformat_minor": 2
}
