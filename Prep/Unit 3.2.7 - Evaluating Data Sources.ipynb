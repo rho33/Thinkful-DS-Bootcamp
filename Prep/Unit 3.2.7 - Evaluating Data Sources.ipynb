{
 "cells": [
  {
   "cell_type": "markdown",
   "metadata": {},
   "source": [
    "### In each of the scenarios, find possible shortcomings of the theoretical or actual data sources to answer the given question. What could be done to either adjust the analysis or reframe the question so that you can answer it accurately?\n",
    "\n",
    "1. Data Source: Amsterdam availability data scraped from AirBnB on December 24th. Question: What are the popular neighborhoods in Amsterdam?\n",
    "\n",
    "2. Data Source: Mental health services use on September 12, 2001 in San Francisco, CA and New York City, NY. Question: How do patterns of mental health service use vary between cities?\n",
    "\n",
    "3. Data Source: Armenian Pub Survey. Question: What are the most common reasons Armenians visit local pubs?"
   ]
  },
  {
   "cell_type": "markdown",
   "metadata": {},
   "source": [
    "#### 1. Data Source: Amsterdam availability data scraped from AirBnB on December 24th. \n",
    "#### Question: What are the popular neighborhoods in Amsterdam?\n",
    "\n",
    "This data was scraped on Christmas Eve, which is likely an exceptional circumstance for AirBnB rentals. To answer the original question, data would likely need to be scraped multiple times over the year. The question could also be reframed to ask, \"What are the popular neighborhoods in Amsterdam around Christmas time?\""
   ]
  },
  {
   "cell_type": "markdown",
   "metadata": {},
   "source": [
    "#### 2. Data Source: Mental health services use on September 12, 2001 in San Francisco, CA and New York City, NY. \n",
    "#### Question: How do patterns of mental health service use vary between cities?\n",
    "\n",
    "This is the data comes from the day after the September 11 terrorist attacks in NYC, whichh is likely an exceptional circumstance for mental health services, especially for NYC. To answer the original question, the data would at least need to be taken from a different day that is not an exceptional circumstance, and likely would need to be taken from multiple days across the year. If your question was something along the lines of , \"How much do terrorist attacks affect mental health service use?\" , you could likely find insight from the data."
   ]
  },
  {
   "cell_type": "markdown",
   "metadata": {},
   "source": [
    "#### 3. Data Source: Armenian Pub Survey.\n",
    "#### Question: What are the most common reasons Armenians visit local pubs?\n",
    "\n",
    "All the respondents look to be relatively young 18-22. Either expand the dataset to include more ages or reframe the question to ask about university aged students. There is also no indication of the nationality of the respondents, so the respondent's could not even be Armenian.\n"
   ]
  }
 ],
 "metadata": {
  "kernelspec": {
   "display_name": "Python 3",
   "language": "python",
   "name": "python3"
  },
  "language_info": {
   "codemirror_mode": {
    "name": "ipython",
    "version": 3
   },
   "file_extension": ".py",
   "mimetype": "text/x-python",
   "name": "python",
   "nbconvert_exporter": "python",
   "pygments_lexer": "ipython3",
   "version": "3.6.2"
  }
 },
 "nbformat": 4,
 "nbformat_minor": 2
}
