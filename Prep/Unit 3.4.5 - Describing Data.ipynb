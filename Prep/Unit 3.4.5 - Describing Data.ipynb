{
 "cells": [
  {
   "cell_type": "code",
   "execution_count": 2,
   "metadata": {},
   "outputs": [],
   "source": [
    "import numpy as np\n",
    "import pandas as pd"
   ]
  },
  {
   "cell_type": "markdown",
   "metadata": {},
   "source": [
    "Question 1:\n",
    "Greg was 14, Marcia was 12, Peter was 11, Jan was 10, Bobby was 8, and Cindy was 6 when they started playing the Brady kids on The Brady Bunch. Cousin Oliver was 8 years old when he joined the show. What are the mean, median, and mode of the kids' ages when they first appeared on the show? What are the variance, standard deviation, and standard error?"
   ]
  },
  {
   "cell_type": "code",
   "execution_count": 3,
   "metadata": {},
   "outputs": [],
   "source": [
    "names = ['Greg','Marcia','Peter','Jan','Bobby','Cindy','Oliver']\n",
    "brady_kids = pd.DataFrame(np.array([14,12,11,10,8,6,8]),index=names,columns=['Ages'])\n",
    "\n",
    "ages = brady_kids['Ages']"
   ]
  },
  {
   "cell_type": "code",
   "execution_count": 14,
   "metadata": {},
   "outputs": [
    {
     "name": "stdout",
     "output_type": "stream",
     "text": [
      "Mean:9.857142857142858\n",
      "\n",
      "Median: 10.0\n",
      "\n",
      "Variance: 6.408163265306122\n",
      "\n",
      "Standard Deviation: 2.531435020952764\n",
      "\n",
      "Standard Error: 1.0334540197243192\n"
     ]
    }
   ],
   "source": [
    "print('Mean: {}'.format(np.mean(ages)))\n",
    "print('\\nMedian: {}'.format(np.median(ages)))\n",
    "print('\\nVariance: {}'.format(np.var(ages)))\n",
    "print('\\nStandard Deviation: {}'.format(np.std(ages)))\n",
    "print('\\nStandard Error: {}'.format(np.std(ages, ddof=1)/np.sqrt(len(ages))))"
   ]
  },
  {
   "cell_type": "markdown",
   "metadata": {},
   "source": [
    "Question 2:\n",
    "Using these estimates, if you had to choose only one estimate of central tendency and one estimate of variance to describe the data, which would you pick and why?"
   ]
  },
  {
   "cell_type": "markdown",
   "metadata": {},
   "source": [
    "If I were looking at only one measure of central tendency and one measure of variance listed above, I would look at mean and standard deviation.\n",
    "\n",
    "The data does not seem to be significantly skewed one way or the other, so mean would be the appropriate measure of central tendency, although mean and median are very close in this particular case anyway.\n",
    "\n",
    "Standard error does not seem to be particularly meaningful to this data set. Perhaps if these were randomly sampled ages from a large group of children, and we wanted to know the average age of the large group of children, then standard error would be more meaningful. Additionally, the ages of these children are likely not entirely random as these kids were written into the show to represent a real world family, and in real world families childrens' ages are typically a year or more apart from each other.\n",
    "\n",
    "Standard deviation appears to be the more relevant measure of spread because it describes the spread of the actual ages seen in the dataset rather than the spread of the mean age of a hypothetical population of Brady Bunch families."
   ]
  },
  {
   "cell_type": "markdown",
   "metadata": {},
   "source": [
    "Question 3:\n",
    "Next, Cindy has a birthday. Update your estimates- what changed, and what didn't?"
   ]
  },
  {
   "cell_type": "code",
   "execution_count": 16,
   "metadata": {},
   "outputs": [
    {
     "name": "stdout",
     "output_type": "stream",
     "text": [
      "Mean: 10.0\n",
      "\n",
      "Median: 10.0\n",
      "\n",
      "Variance: 5.428571428571429\n",
      "\n",
      "Standard Deviation: 2.32992949004287\n",
      "\n",
      "Standard Error: 0.9511897312113418\n"
     ]
    }
   ],
   "source": [
    "new_ages = ages.copy()\n",
    "new_ages['Cindy']=7\n",
    "\n",
    "print('Mean: {}'.format(np.mean(new_ages)))\n",
    "print('\\nMedian: {}'.format(np.median(new_ages)))\n",
    "print('\\nVariance: {}'.format(np.var(new_ages)))\n",
    "print('\\nStandard Deviation: {}'.format(np.std(new_ages)))\n",
    "print('\\nStandard Error: {}'.format(np.std(new_ages, ddof=1)/np.sqrt(len(new_ages))))\n"
   ]
  },
  {
   "cell_type": "markdown",
   "metadata": {},
   "source": [
    "Mean increased slightly. Median stayed the same. Variance, Standard Deviation, and Standard Error (all the measures of spread) decreased which makes sense because the lowest value is now closer to the mean than before."
   ]
  },
  {
   "cell_type": "markdown",
   "metadata": {},
   "source": [
    "Question 4:\n",
    "Nobody likes Cousin Oliver. Maybe the network should have used an even younger actor. Replace Cousin Oliver with 1-year-old Jessica, then recalculate again. Does this change your choice of central tendency or variance estimation methods?"
   ]
  },
  {
   "cell_type": "code",
   "execution_count": 17,
   "metadata": {},
   "outputs": [
    {
     "name": "stdout",
     "output_type": "stream",
     "text": [
      "Mean: 8.857142857142858\n",
      "\n",
      "Median: 10.0\n",
      "\n",
      "Variance: 16.122448979591837\n",
      "\n",
      "Standard Deviation: 4.015276949301485\n",
      "\n",
      "Standard Error: 1.6392299502912862\n"
     ]
    }
   ],
   "source": [
    "names_jess = ['Greg','Marcia','Peter','Jan','Bobby','Cindy','Jessica']\n",
    "brady_kids_jess = pd.DataFrame(np.array([14,12,11,10,8,6,1]),index=names,columns=['Ages'])\n",
    "\n",
    "ages_jess = brady_kids_jess['Ages']\n",
    "\n",
    "print('Mean: {}'.format(np.mean(ages_jess)))\n",
    "print('\\nMedian: {}'.format(np.median(ages_jess)))\n",
    "print('\\nVariance: {}'.format(np.var(ages_jess)))\n",
    "print('\\nStandard Deviation: {}'.format(np.std(ages_jess)))\n",
    "print('\\nStandard Error: {}'.format(np.std(ages_jess, ddof=1)/np.sqrt(len(ages_jess))))\n"
   ]
  },
  {
   "cell_type": "markdown",
   "metadata": {},
   "source": [
    "The median becomes a more relavant measure of central tendency than before because now there is one outlier to the left in this population of 7 which skews the data and affects the mean. \n",
    "\n",
    "Standard deviation would still be my choice for measure of spread for the same reasons as in question 1.\n"
   ]
  },
  {
   "cell_type": "markdown",
   "metadata": {},
   "source": [
    "Question 5:\n",
    "On the 50th anniversary of The Brady Bunch, four different magazines asked their readers whether they were fans of the show. The answers were: TV Guide 20% fans Entertainment Weekly 23% fans Pop Culture Today 17% fans SciPhi Phanatic 5% fans\n",
    "\n",
    "Based on these numbers, what percentage of adult Americans would you estimate were Brady Bunch fans on the 50th anniversary of the show?"
   ]
  },
  {
   "cell_type": "code",
   "execution_count": 18,
   "metadata": {},
   "outputs": [
    {
     "name": "stdout",
     "output_type": "stream",
     "text": [
      "Mean: 0.20000000000000004\n"
     ]
    }
   ],
   "source": [
    "polls = ['TV Guide','Entertainment Weekly','Pop Culture Today','SciPhi Phanatic']\n",
    "poll_res = np.array([.2,.23,.17,.05])\n",
    "bb_fans = pd.DataFrame(poll_res, index=polls, columns=['Fan Ratio'])['Fan Ratio']\n",
    "\n",
    "\n",
    "\n",
    "print('Mean: {}'.format(bb_fans[bb_fans.index != 'SciPhi Phanatic'].mean())) # Don't count ScipPhi Phanatic. \n",
    "# bb_fans[:3] alternative way of excluding SciPhi Phanatic based on position"
   ]
  },
  {
   "cell_type": "code",
   "execution_count": 8,
   "metadata": {},
   "outputs": [
    {
     "data": {
      "text/plain": [
       "TV Guide                0.20\n",
       "Entertainment Weekly    0.23\n",
       "Pop Culture Today       0.17\n",
       "Name: Fan Ratio, dtype: float64"
      ]
     },
     "execution_count": 8,
     "metadata": {},
     "output_type": "execute_result"
    }
   ],
   "source": [
    "bb_fans[bb_fans.index != 'SciPhi Phanatic']"
   ]
  },
  {
   "cell_type": "markdown",
   "metadata": {},
   "source": [
    "SciPhi Phanatic probably isn't representative of Americans as a whole, therefore we should take the mean of the remaining polls which would be 20%."
   ]
  }
 ],
 "metadata": {
  "kernelspec": {
   "display_name": "Python 3",
   "language": "python",
   "name": "python3"
  },
  "language_info": {
   "codemirror_mode": {
    "name": "ipython",
    "version": 3
   },
   "file_extension": ".py",
   "mimetype": "text/x-python",
   "name": "python",
   "nbconvert_exporter": "python",
   "pygments_lexer": "ipython3",
   "version": "3.6.2"
  }
 },
 "nbformat": 4,
 "nbformat_minor": 2
}
