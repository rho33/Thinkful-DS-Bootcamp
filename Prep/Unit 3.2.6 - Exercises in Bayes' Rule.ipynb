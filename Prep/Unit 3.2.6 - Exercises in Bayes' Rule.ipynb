{
 "cells": [
  {
   "cell_type": "markdown",
   "metadata": {},
   "source": [
    "#### A diagnostic test has a 98% probability of giving a positive result when applied to a person suffering from Thripshaw's Disease, and 10% probability of giving a (false) positive when applied to a non-sufferer. It is estimated that 0.5 % of the population are sufferers. Suppose that the test is now administered to a person whose disease status is unknown. Calculate the probability that the test will:\n",
    "\n",
    "1. Be positive\n",
    "2. Correctly diagnose a sufferer of Thripshaw's\n",
    "3. Correctly identify a non-sufferer of Thripshaw's\n",
    "4. Misclassify the person"
   ]
  },
  {
   "cell_type": "markdown",
   "metadata": {},
   "source": [
    "1. The probability that the test will be positive is (.005\\*.98)\\+(.995\\*.10) = .100440 or 10.440%"
   ]
  },
  {
   "cell_type": "code",
   "execution_count": 6,
   "metadata": {},
   "outputs": [
    {
     "data": {
      "text/plain": [
       "0.1044"
      ]
     },
     "execution_count": 6,
     "metadata": {},
     "output_type": "execute_result"
    }
   ],
   "source": [
    ".005*.98+.995*.10"
   ]
  },
  {
   "cell_type": "markdown",
   "metadata": {},
   "source": [
    "2. The probability that the test will correctly diagnose a person as a sufferer given that the person who is administered the test has an unkown disease status is .005\\*.98 = .0049 or 0.49%. \n",
    "\n",
    "The probability that the test will correctly diagnose someone given that they are a sufferer is .98 or 98% (given in the question description)."
   ]
  },
  {
   "cell_type": "code",
   "execution_count": 2,
   "metadata": {},
   "outputs": [
    {
     "data": {
      "text/plain": [
       "0.0049"
      ]
     },
     "execution_count": 2,
     "metadata": {},
     "output_type": "execute_result"
    }
   ],
   "source": [
    ".005*.98"
   ]
  },
  {
   "cell_type": "markdown",
   "metadata": {},
   "source": [
    "3. The probability that the test will correctly identify a non-sufferer given that the person who is administered the test has an unkown disease status is .995*.9=.8955 or 89.55%\n",
    "\n",
    "The probability that the test will correctly diagnose someone given that they are not a sufferer is .9 or 90% (given in the question description)."
   ]
  },
  {
   "cell_type": "code",
   "execution_count": 7,
   "metadata": {},
   "outputs": [
    {
     "data": {
      "text/plain": [
       "0.8955"
      ]
     },
     "execution_count": 7,
     "metadata": {},
     "output_type": "execute_result"
    }
   ],
   "source": [
    ".995*.9"
   ]
  },
  {
   "cell_type": "markdown",
   "metadata": {},
   "source": [
    "4. The probability that the test will misclassify a person is .005 \\* .02 \\+ .995 \\* .1 = 9.96%"
   ]
  },
  {
   "cell_type": "code",
   "execution_count": 8,
   "metadata": {},
   "outputs": [
    {
     "data": {
      "text/plain": [
       "0.09960000000000001"
      ]
     },
     "execution_count": 8,
     "metadata": {},
     "output_type": "execute_result"
    }
   ],
   "source": [
    ".005*.02+.995*.1"
   ]
  },
  {
   "cell_type": "markdown",
   "metadata": {},
   "source": [
    "None of these problems seem to require Bayes rule. The problems were all about calculating the probability of a test result given a disease status (unkown). Bayes doesn't seem necessary until you ask about the probability of a disease status given a test result\n",
    "\n",
    "Question 1 for example:\n",
    "\n",
    "\"What is the probability of a positive test given that the person's disease status is unknown?\"\n",
    "\n",
    "could also be phrased:\n",
    "\n",
    "\"What is the probability of a positive test given that a person is either infected or not infected?\"\n",
    "\n",
    "which could be written as:\n",
    "\n",
    "P(Positive Test|Infected ∪ Not Infected), and since P(Infected ∪ Not Infected) = 1, Bayes rule will result in this being simplified back down to P(Positive Test)"
   ]
  }
 ],
 "metadata": {
  "kernelspec": {
   "display_name": "Python 3",
   "language": "python",
   "name": "python3"
  },
  "language_info": {
   "codemirror_mode": {
    "name": "ipython",
    "version": 3
   },
   "file_extension": ".py",
   "mimetype": "text/x-python",
   "name": "python",
   "nbconvert_exporter": "python",
   "pygments_lexer": "ipython3",
   "version": "3.6.2"
  }
 },
 "nbformat": 4,
 "nbformat_minor": 2
}
