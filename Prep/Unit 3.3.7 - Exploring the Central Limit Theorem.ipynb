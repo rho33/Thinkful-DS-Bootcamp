{
 "cells": [
  {
   "cell_type": "markdown",
   "metadata": {},
   "source": [
    "### Create two binomially distributed populations with n equal to 10 and size equal to 10000. The p-value of pop1 should be 0.2 and the p-value of pop2 should be 0.5. Using a sample size of 100, calculate the means and standard deviations of your samples."
   ]
  },
  {
   "cell_type": "code",
   "execution_count": 1,
   "metadata": {},
   "outputs": [],
   "source": [
    "import numpy as np\n",
    "import pandas as pd\n",
    "import scipy\n",
    "import matplotlib.pyplot as plt\n",
    "%matplotlib inline"
   ]
  },
  {
   "cell_type": "code",
   "execution_count": 2,
   "metadata": {},
   "outputs": [],
   "source": [
    "def hist_calcs(s1, s1_name, s2, s2_name):\n",
    "    plt.hist(s1, alpha=0.5, label=s1_name, bins=np.arange(s1.min()-.5,s1.max()+1)) \n",
    "    plt.hist(s2, alpha=0.5, label=s2_name,  bins=np.arange(s2.min()-.5,s2.max()+1)) \n",
    "    plt.legend(loc='upper right') \n",
    "    plt.show()\n",
    "    \n",
    "    print('{} mean: {}'.format(s1_name, s1.mean()))\n",
    "    print('{} mean: {}'.format(s2_name, s2.mean()))\n",
    "    print('{} standard deviation: {}'.format(s1_name, s1.std()))\n",
    "    print('{} standard deviation: {}'.format(s2_name, s2.std()))"
   ]
  },
  {
   "cell_type": "code",
   "execution_count": 3,
   "metadata": {},
   "outputs": [],
   "source": [
    "pop1 = np.random.binomial(10, 0.2, 10000)\n",
    "pop2 = np.random.binomial(10,0.5, 10000) "
   ]
  },
  {
   "cell_type": "code",
   "execution_count": 4,
   "metadata": {},
   "outputs": [
    {
     "data": {
      "image/png": "[encoded data removed]",
      "text/plain": [
       "<Figure size 432x288 with 1 Axes>"
      ]
     },
     "metadata": {},
     "output_type": "display_data"
    },
    {
     "name": "stdout",
     "output_type": "stream",
     "text": [
      "Population 1 mean: 2.0112\n",
      "Population 2 mean: 4.9896\n",
      "Population 1 standard deviation: 1.2838514555819922\n",
      "Population 2 standard deviation: 1.5928878931048476\n"
     ]
    }
   ],
   "source": [
    "hist_calcs(pop1, 'Population 1', pop2, 'Population 2')"
   ]
  },
  {
   "cell_type": "code",
   "execution_count": 5,
   "metadata": {},
   "outputs": [],
   "source": [
    "sample1 = np.random.choice(pop1, 100, replace=True)\n",
    "sample2 = np.random.choice(pop2, 100, replace=True)"
   ]
  },
  {
   "cell_type": "code",
   "execution_count": 6,
   "metadata": {},
   "outputs": [
    {
     "data": {
      "image/png": "[encoded data removed]",
      "text/plain": [
       "<Figure size 432x288 with 1 Axes>"
      ]
     },
     "metadata": {},
     "output_type": "display_data"
    },
    {
     "name": "stdout",
     "output_type": "stream",
     "text": [
      "sample 1 mean: 2.04\n",
      "sample 2 mean: 4.98\n",
      "sample 1 standard deviation: 1.399428454762872\n",
      "sample 2 standard deviation: 1.9645864704817653\n"
     ]
    }
   ],
   "source": [
    "hist_calcs(sample1,'sample 1', sample2, 'sample 2')"
   ]
  },
  {
   "cell_type": "markdown",
   "metadata": {},
   "source": [
    "### For each of the following tasks, first write what you expect will happen, then code the changes and observe what does happen. "
   ]
  },
  {
   "cell_type": "markdown",
   "metadata": {},
   "source": [
    "1. **Increase the size of your samples from 100 to 1000, then calculate the means and standard deviations for your new samples and create histograms for each. Repeat this again, decreasing the size of your samples to 20. What values change, and what remain the same?**"
   ]
  },
  {
   "cell_type": "markdown",
   "metadata": {},
   "source": [
    "When the sample sizes are increased from 100 to 1000, the sample means and sample standard deviations will likely move closer to the population means and population standard deviations. When the sample size is decreased we would likely see the opposite."
   ]
  },
  {
   "cell_type": "code",
   "execution_count": 7,
   "metadata": {},
   "outputs": [],
   "source": [
    "inc_sample1 = np.random.choice(pop1, 1000, replace=True)\n",
    "inc_sample2 = np.random.choice(pop2, 1000, replace=True)"
   ]
  },
  {
   "cell_type": "code",
   "execution_count": 8,
   "metadata": {
    "scrolled": true
   },
   "outputs": [
    {
     "data": {
      "image/png": "[encoded data removed]",
      "text/plain": [
       "<Figure size 432x288 with 1 Axes>"
      ]
     },
     "metadata": {},
     "output_type": "display_data"
    },
    {
     "name": "stdout",
     "output_type": "stream",
     "text": [
      "increased sample 1 mean: 1.96\n",
      "increased sample 2 mean: 4.958\n",
      "increased sample 1 standard deviation: 1.3047605144240073\n",
      "increased sample 2 standard deviation: 1.572334569994567\n"
     ]
    }
   ],
   "source": [
    "hist_calcs(inc_sample1,'increased sample 1', inc_sample2, 'increased sample 2')"
   ]
  },
  {
   "cell_type": "code",
   "execution_count": 9,
   "metadata": {},
   "outputs": [],
   "source": [
    "dec_sample1 = np.random.choice(pop1, 20, replace=True)\n",
    "dec_sample2 = np.random.choice(pop2, 20, replace=True)"
   ]
  },
  {
   "cell_type": "code",
   "execution_count": 10,
   "metadata": {},
   "outputs": [
    {
     "data": {
      "image/png": "[encoded data removed]",
      "text/plain": [
       "<Figure size 432x288 with 1 Axes>"
      ]
     },
     "metadata": {},
     "output_type": "display_data"
    },
    {
     "name": "stdout",
     "output_type": "stream",
     "text": [
      "decreased sample 1 mean: 2.15\n",
      "decreased sample 2 mean: 5.35\n",
      "decreased sample 1 standard deviation: 0.9630680142129111\n",
      "decreased sample 2 standard deviation: 1.5898113095584647\n"
     ]
    }
   ],
   "source": [
    "hist_calcs(dec_sample1,'decreased sample 1', dec_sample2, 'decreased sample 2')"
   ]
  },
  {
   "cell_type": "markdown",
   "metadata": {},
   "source": [
    "2. **Change the probability value (p in the NumPy documentation) for pop1 to 0.3, then take new samples and compute the t-statistic and p-value. Then change the probability value p for group 1 to 0.4, and do it again. What changes, and why?**"
   ]
  },
  {
   "cell_type": "code",
   "execution_count": 11,
   "metadata": {},
   "outputs": [],
   "source": [
    "from scipy.stats import ttest_ind"
   ]
  },
  {
   "cell_type": "code",
   "execution_count": 36,
   "metadata": {},
   "outputs": [],
   "source": [
    "pop1_c = np.random.binomial(10, 0.3, 10000) #population 1 changed\n",
    "sample1_c = np.random.choice(pop1_c, 100, replace=True)\n",
    "sample2_c = np.random.choice(pop2, 100, replace=True)"
   ]
  },
  {
   "cell_type": "code",
   "execution_count": 37,
   "metadata": {},
   "outputs": [
    {
     "data": {
      "text/plain": [
       "Ttest_indResult(statistic=7.5690038090044158, pvalue=1.4703614465012116e-12)"
      ]
     },
     "execution_count": 37,
     "metadata": {},
     "output_type": "execute_result"
    }
   ],
   "source": [
    "ttest_ind(sample2_c, sample1_c, equal_var=False)"
   ]
  },
  {
   "cell_type": "code",
   "execution_count": 30,
   "metadata": {},
   "outputs": [],
   "source": [
    "pop1_c2 = np.random.binomial(10, 0.4, 10000) # population 1 changed for second time\n",
    "sample1_c2 = np.random.choice(pop1_c2, 100, replace=True)\n",
    "sample2_c2 = np.random.choice(pop2, 100, replace=True)"
   ]
  },
  {
   "cell_type": "code",
   "execution_count": 31,
   "metadata": {},
   "outputs": [
    {
     "data": {
      "text/plain": [
       "Ttest_indResult(statistic=2.7438188315644791, pvalue=0.0066439407472094793)"
      ]
     },
     "execution_count": 31,
     "metadata": {},
     "output_type": "execute_result"
    }
   ],
   "source": [
    "ttest_ind(sample2_c2, sample1_c2, equal_var=False)"
   ]
  },
  {
   "cell_type": "markdown",
   "metadata": {},
   "source": [
    "As pop1's probability value approaches pop2's probability value, the samples taken from each are more likely to have lower t-statistics and higher p values when tested against each other. \n",
    "\n",
    "This makes sense because populations with probability values (or means) that are far apart will have less overlap in their data, so a given sample size should be able to prove differences between the populations with a greater degree of certainty than if those populations had probability values (or means) that were close to one another. \n"
   ]
  },
  {
   "cell_type": "code",
   "execution_count": 43,
   "metadata": {},
   "outputs": [
    {
     "data": {
      "text/plain": [
       "(array([   11.,   100.,   461.,  1203.,  2015.,  2440.,  2056.,  1163.,\n",
       "          439.,   104.,     8.]),\n",
       " array([ -0.5,   0.5,   1.5,   2.5,   3.5,   4.5,   5.5,   6.5,   7.5,\n",
       "          8.5,   9.5,  10.5]),\n",
       " <a list of 11 Patch objects>)"
      ]
     },
     "execution_count": 43,
     "metadata": {},
     "output_type": "execute_result"
    },
    {
     "data": {
      "image/png": "[encoded data removed]",
      "text/plain": [
       "<Figure size 1008x504 with 2 Axes>"
      ]
     },
     "metadata": {},
     "output_type": "display_data"
    }
   ],
   "source": [
    "plt.figure(figsize=(14, 7))\n",
    "\n",
    "plt.subplot(1,2,1)\n",
    "plt.hist(pop1, alpha=0.5, bins=np.arange(pop1.min()-.5,pop1.max()+1)) \n",
    "plt.hist(pop2, alpha=0.5,  bins=np.arange(pop2.min()-.5,pop2.max()+1)) \n",
    "\n",
    "plt.subplot(1,2,2)\n",
    "plt.hist(pop1_c2, alpha=0.5, bins=np.arange(pop1_c2.min()-.5,pop1_c2.max()+1)) \n",
    "plt.hist(pop2, alpha=0.5,  bins=np.arange(pop2.min()-.5,pop2.max()+1)) "
   ]
  },
  {
   "cell_type": "markdown",
   "metadata": {},
   "source": [
    "3. **Change the distribution of your populations from binomial to a distribution of your choice. Do the sample mean values still accurately represent the population values?**"
   ]
  },
  {
   "cell_type": "code",
   "execution_count": 44,
   "metadata": {},
   "outputs": [],
   "source": [
    "ps_pop1 = np.random.poisson(1,10000)\n",
    "ps_pop2 = np.random.poisson(2,10000)"
   ]
  },
  {
   "cell_type": "code",
   "execution_count": 45,
   "metadata": {},
   "outputs": [
    {
     "data": {
      "image/png": "[encoded data removed]",
      "text/plain": [
       "<Figure size 432x288 with 1 Axes>"
      ]
     },
     "metadata": {},
     "output_type": "display_data"
    },
    {
     "name": "stdout",
     "output_type": "stream",
     "text": [
      "lambda = 1 mean: 0.9864\n",
      "lambda = 2 mean: 1.9933\n",
      "lambda = 1 standard deviation: 0.9901590983271324\n",
      "lambda = 2 standard deviation: 1.4129596986467805\n"
     ]
    }
   ],
   "source": [
    "hist_calcs(ps_pop1, 'lambda = 1', ps_pop2, 'lambda = 2')"
   ]
  },
  {
   "cell_type": "code",
   "execution_count": 53,
   "metadata": {},
   "outputs": [],
   "source": [
    "ps_sample1 = np.random.choice(ps_pop1, 100)\n",
    "ps_sample2 = np.random.choice(ps_pop2, 100)"
   ]
  },
  {
   "cell_type": "code",
   "execution_count": 54,
   "metadata": {},
   "outputs": [
    {
     "data": {
      "image/png": "[encoded data removed]",
      "text/plain": [
       "<Figure size 432x288 with 1 Axes>"
      ]
     },
     "metadata": {},
     "output_type": "display_data"
    },
    {
     "name": "stdout",
     "output_type": "stream",
     "text": [
      "lambda = 1 mean: 1.02\n",
      "lambda = 2 mean: 1.92\n",
      "lambda = 1 standard deviation: 1.1400000000000001\n",
      "lambda = 2 standard deviation: 1.3242356285797476\n"
     ]
    }
   ],
   "source": [
    "hist_calcs(ps_sample1, 'lambda = 1', ps_sample2, 'lambda = 2')"
   ]
  },
  {
   "cell_type": "markdown",
   "metadata": {},
   "source": [
    "Yes the sample means still seam to be a good reflection of the population means. This is consistent with the Central Limit Theorem"
   ]
  }
 ],
 "metadata": {
  "kernelspec": {
   "display_name": "Python 3",
   "language": "python",
   "name": "python3"
  },
  "language_info": {
   "codemirror_mode": {
    "name": "ipython",
    "version": 3
   },
   "file_extension": ".py",
   "mimetype": "text/x-python",
   "name": "python",
   "nbconvert_exporter": "python",
   "pygments_lexer": "ipython3",
   "version": "3.6.2"
  }
 },
 "nbformat": 4,
 "nbformat_minor": 2
}
